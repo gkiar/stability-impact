{
 "cells": [
  {
   "cell_type": "markdown",
   "metadata": {},
   "source": [
    "## TRT Experiments:\n",
    "\n",
    "For each experiment summarized below, a table accompanies the stated hypothesis which describes the dataset(s) used to test the hypothesis. In each column, 'All' indicates that the comparison is made along the specified variable, a '1' indicates a setting in which the test is performed multiple times using a single value of this variable for each test, and 'Ref' refers to using the single reference execution. A value of 'Indep.' refers to tests which are performed for each single value independently, and 'Indep. & Compare' refers to variables for which a two-sample test comparing each value of this variable will be performed following independent evaluation. To avoid false-positive inflation due to multiple comparisons, the mean and standard deviation statistic and p-value for each test will be reported.\n",
    "\n",
    "In total, following this structure, 9 tests will be performed for each of two pipelines and two perturbation modes, resulting in 36 one-sample tests. For each of these 9 tests, 2 two-sample tests will be performed, comparing pipelines for each perturbation mode, resulting in an additional 18 tests, bringing the total number of tests to 54.\n",
    "\n",
    "### Hypothesis 1: Individual Variation\n",
    "\n",
    "$H_0$: Individuals are not more different from one another than they are from themselves<br>\n",
    "$H_A$: Individuals are distinct across {sessions, directions, simulations}<br>\n",
    "Expected result: Accept $H_A$\n",
    "\n",
    "Collections:\n",
    "\n",
    "|  #  | Participants | Sessions | Directions | Simulations | Pipelines        | Perturbation     |\n",
    "|:---:|:-------------|:---------|:-----------|:------------|:-----------------|:-----------------|\n",
    "| 1.1 | All          | All      | 1          | All         | Indep. & Compare | Indep.           |\n",
    "| 1.2 | All          | All      | 1          | Ref         | Indep. & Compare | Indep.           |\n",
    "| 1.3 | All          | 1        | All        | All         | Indep. & Compare | Indep.           |\n",
    "| 1.4 | All          | 1        | All        | Ref         | Indep. & Compare | Indep.           |\n",
    "| 1.5 | All          | 1        | 1          | All         | Indep. & Compare | Indep.           |\n",
    "\n",
    "\n",
    "### Hypothesis 2: Session Variation\n",
    "\n",
    "$H_0$: Sessions are not different from one another<br>\n",
    "$H_A$: Sessions are distinct from one another across {directions, simulations}<br>\n",
    "Expected result: Fail to reject $H_0$\n",
    "\n",
    "Collections:\n",
    "\n",
    "|  #  | Participants | Sessions | Directions | Simulations | Pipelines        | Perturbation     |\n",
    "|:---:|:-------------|:---------|:-----------|:------------|:-----------------|:-----------------|\n",
    "| 2.6 | 1            | All      | All        | All         | Indep. & Compare | Indep.           |\n",
    "| 2.7 | 1            | All      | All        | Ref         | Indep. & Compare | Indep.           |\n",
    "| 2.8 | 1            | All      | 1          | All         | Indep. & Compare | Indep.           |\n",
    "\n",
    "\n",
    "### Hypothesis 3: Direction Variation\n",
    "\n",
    "$H_0$: Odd- and Even-direction sets are not different from one another<br>\n",
    "$H_A$: Direction subsets are distinct from one another<br>\n",
    "Expected result: Fail to reject $H_0$\n",
    "\n",
    "Collections:\n",
    "\n",
    "|  #  | Participants | Sessions | Directions | Simulations | Pipelines        | Perturbation     |\n",
    "|:---:|:-------------|:---------|:-----------|:------------|:-----------------|:-----------------|\n",
    "| 3.9 | 1            | 1        | All        | All         | Indep. & Compare | Indep.           |\n"
   ]
  },
  {
   "cell_type": "code",
   "execution_count": 1,
   "metadata": {},
   "outputs": [],
   "source": [
    "import pandas as pd\n",
    "import numpy as np\n",
    "import os.path as op\n",
    "import os\n",
    "\n",
    "from hyppo import discrim\n",
    "# from varmodel_utils import objective, get_full_variance_indices,\\\n",
    "#                            get_sub_variance_indices, prune"
   ]
  },
  {
   "cell_type": "code",
   "execution_count": 2,
   "metadata": {},
   "outputs": [],
   "source": [
    "bp = '/data/RocklandSample/derivatives/paper1/'\n",
    "exp = 'figures'\n",
    "bpp = op.join(bp, exp)\n",
    "try:\n",
    "    os.makedirs(bpp)\n",
    "except FileExistsError:\n",
    "    pass\n",
    "\n",
    "# cols = [\"subject\", \"session\", \"directions\", \"pipeline\", \"simulation\"]\n",
    "\n",
    "df_pyonly = pd.read_hdf(bp + 'connectomes_mp_pyonly.h5')\n",
    "df_pyonly['Instrumentation'] = \"Inputs\"\n",
    "# df_pyonly = df_pyonly.reset_index(level=0).set_index(cols)\n",
    "\n",
    "df_fs = pd.read_hdf(bp + 'connectomes_mp.h5')\n",
    "df_fs['Instrumentation'] = \"Pipeline\"\n",
    "# df_fs = df_fs.reset_index(level=0).set_index(cols)\n",
    "\n",
    "# df = pd.concat([df_fs, df_pyonly], axis=0, ignore_index=True)"
   ]
  },
  {
   "cell_type": "code",
   "execution_count": null,
   "metadata": {},
   "outputs": [],
   "source": []
  }
 ],
 "metadata": {
  "kernelspec": {
   "display_name": "Python 3.7.3 64-bit ('stability': virtualenv)",
   "language": "python",
   "name": "python37364bitstabilityvirtualenv84ac84352db94279bfc9e852927393a9"
  },
  "language_info": {
   "codemirror_mode": {
    "name": "ipython",
    "version": 3
   },
   "file_extension": ".py",
   "mimetype": "text/x-python",
   "name": "python",
   "nbconvert_exporter": "python",
   "pygments_lexer": "ipython3",
   "version": "3.7.3"
  }
 },
 "nbformat": 4,
 "nbformat_minor": 4
}
