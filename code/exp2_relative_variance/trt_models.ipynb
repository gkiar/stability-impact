{
 "cells": [
  {
   "cell_type": "markdown",
   "metadata": {},
   "source": [
    "## TRT Experiments:\n",
    "\n",
    "For each experiment summarized below, a table accompanies the stated hypothesis which describes the dataset(s) used to test the hypothesis. In each column, 'All' indicates that the comparison is made along the specified variable, a '1' indicates a setting in which the test is performed multiple times using a single value of this variable for each test, and 'Ref' refers to using the single reference execution. A value of 'Indep.' refers to tests which are performed for each single value independently, and 'Indep. & Compare' refers to variables for which a two-sample test comparing each value of this variable will be performed following independent evaluation. To avoid false-positive inflation due to multiple comparisons, the mean and standard deviation statistic and p-value for each test will be reported.\n",
    "\n",
    "In total, following this structure, 9 tests will be performed for each of two pipelines and two perturbation modes, resulting in 36 one-sample tests. For each of these 9 tests, 2 two-sample tests will be performed, comparing pipelines for each perturbation mode, resulting in an additional 18 tests, bringing the total number of tests to 54.\n",
    "\n",
    "### Hypothesis 1: Individual Variation\n",
    "\n",
    "$H_0$: Individuals are not more different from one another than they are from themselves<br>\n",
    "$H_A$: Individuals are distinct across {sessions, directions, simulations}<br>\n",
    "Expected result: Accept $H_A$\n",
    "\n",
    "Collections:\n",
    "\n",
    "|  #  | Participants | Sessions | Directions | Simulations | Pipelines        | Perturbation     |\n",
    "|:---:|:-------------|:---------|:-----------|:------------|:-----------------|:-----------------|\n",
    "| 1.1 | All          | All      | 1          | All         | Indep. & Compare | Indep.           |\n",
    "| 1.2 | All          | All      | 1          | Ref         | Indep. & Compare | Indep.           |\n",
    "| 1.3 | All          | 1        | All        | All         | Indep. & Compare | Indep.           |\n",
    "| 1.4 | All          | 1        | All        | Ref         | Indep. & Compare | Indep.           |\n",
    "| 1.5 | All          | 1        | 1          | All         | Indep. & Compare | Indep.           |\n",
    "\n",
    "\n",
    "### Hypothesis 2: Session Variation\n",
    "\n",
    "$H_0$: Sessions are not different from one another<br>\n",
    "$H_A$: Sessions are distinct from one another across {directions, simulations}<br>\n",
    "Expected result: Fail to reject $H_0$\n",
    "\n",
    "Collections:\n",
    "\n",
    "|  #  | Participants | Sessions | Directions | Simulations | Pipelines        | Perturbation     |\n",
    "|:---:|:-------------|:---------|:-----------|:------------|:-----------------|:-----------------|\n",
    "| 2.6 | 1            | All      | All        | All         | Indep. & Compare | Indep.           |\n",
    "| 2.7 | 1            | All      | All        | Ref         | Indep. & Compare | Indep.           |\n",
    "| 2.8 | 1            | All      | 1          | All         | Indep. & Compare | Indep.           |\n",
    "\n",
    "\n",
    "### Hypothesis 3: Direction Variation\n",
    "\n",
    "$H_0$: Odd- and Even-direction sets are not different from one another<br>\n",
    "$H_A$: Direction subsets are distinct from one another<br>\n",
    "Expected result: Fail to reject $H_0$\n",
    "\n",
    "Collections:\n",
    "\n",
    "|  #  | Participants | Sessions | Directions | Simulations | Pipelines        | Perturbation     |\n",
    "|:---:|:-------------|:---------|:-----------|:------------|:-----------------|:-----------------|\n",
    "| 3.9 | 1            | 1        | All        | All         | Indep. & Compare | Indep.           |\n"
   ]
  },
  {
   "cell_type": "code",
   "execution_count": 1,
   "metadata": {},
   "outputs": [],
   "source": [
    "import pandas as pd\n",
    "import numpy as np\n",
    "import os.path as op\n",
    "import os\n",
    "\n",
    "from hyppo import discrim\n",
    "# from varmodel_utils import objective, get_full_variance_indices,\\\n",
    "#                            get_sub_variance_indices, prune"
   ]
  },
  {
   "cell_type": "code",
   "execution_count": 2,
   "metadata": {},
   "outputs": [],
   "source": [
    "bp = '/data/RocklandSample/derivatives/paper1/'\n",
    "exp = 'figures'\n",
    "bpp = op.join(bp, exp)\n",
    "try:\n",
    "    os.makedirs(bpp)\n",
    "except FileExistsError:\n",
    "    pass\n",
    "\n",
    "# cols = [\"subject\", \"session\", \"directions\", \"pipeline\", \"simulation\"]\n",
    "\n",
    "df_pyonly = pd.read_hdf(bp + 'connectomes_mp_pyonly.h5')\n",
    "df_pyonly['Instrumentation'] = \"Inputs\"\n",
    "# df_pyonly = df_pyonly.reset_index(level=0).set_index(cols)\n",
    "\n",
    "df_fs = pd.read_hdf(bp + 'connectomes_mp.h5')\n",
    "df_fs['Instrumentation'] = \"Pipeline\"\n",
    "# df_fs = df_fs.reset_index(level=0).set_index(cols)\n",
    "\n",
    "# df = pd.concat([df_fs, df_pyonly], axis=0, ignore_index=True)"
   ]
  },
  {
   "cell_type": "code",
   "execution_count": 68,
   "metadata": {},
   "outputs": [],
   "source": [
    "stat_cols = ['hypothesis', 'test', 'pipeline', 'instrumentation', 'discrim', 'p-value']\n",
    "\n",
    "def pipeline_discrims(df_, idvar='subject', hyp=0, test=0, instrum='NA', reps=100, workers=4):\n",
    "    stat_list = []\n",
    "    xs = []\n",
    "    ys = []\n",
    "    for pipe in ['det', 'prob']:\n",
    "#         print(pipe)\n",
    "        df = df_[df_['pipeline'] == pipe]\n",
    "        x = np.array([np.reshape(g, -1) for g in df.graph.values])\n",
    "        xs += [x]\n",
    "\n",
    "        # Determine membership \n",
    "        uniq = list(df[idvar].unique())\n",
    "        y = np.array([uniq.index(s) for s in df[idvar]])\n",
    "        ys += [y]\n",
    "\n",
    "        disc, pval = discrim.DiscrimOneSample().test(x, y, reps=reps, workers=workers)\n",
    "#         print(disc, pval)\n",
    "        tmpstat = {stat_cols[0]: hyp,\n",
    "                   stat_cols[1]: test,\n",
    "                   stat_cols[2]: pipe,\n",
    "                   stat_cols[3]: instrum,\n",
    "                   stat_cols[4]: disc,\n",
    "                   stat_cols[5]: pval}\n",
    "\n",
    "        stat_list += [tmpstat]\n",
    "        del tmpstat\n",
    "\n",
    "    assert(np.equal(ys[0], ys[1]).all())\n",
    "    d1, d2, pval = discrim.DiscrimTwoSample().test(xs[0], xs[1], y, reps=reps, workers=workers)\n",
    "#     print(d1, d2, pval)\n",
    "    tmpstat = {stat_cols[0]: hyp,\n",
    "               stat_cols[1]: test,\n",
    "               stat_cols[2]: 'det-prob',\n",
    "               stat_cols[3]: instrum,\n",
    "               stat_cols[4]: d1-d2,\n",
    "               stat_cols[5]: pval}\n",
    "    stat_list += [tmpstat]\n",
    "    del tmpstat\n",
    "\n",
    "    return stat_list"
   ]
  },
  {
   "cell_type": "code",
   "execution_count": 59,
   "metadata": {},
   "outputs": [
    {
     "name": "stdout",
     "output_type": "stream",
     "text": [
      "Pipeline\n",
      "det\n"
     ]
    },
    {
     "name": "stderr",
     "output_type": "stream",
     "text": [
      "/Users/greg/code/env/stability/lib/python3.7/site-packages/hyppo/_utils.py:67: RuntimeWarning: The number of replications is low (under 1000), and p-value calculations may be unreliable. Use the p-value result, with caution!\n",
      "  warnings.warn(msg, RuntimeWarning)\n"
     ]
    },
    {
     "name": "stdout",
     "output_type": "stream",
     "text": [
      "0.8158580369817303 0.3333333333333333\n",
      "prob\n"
     ]
    },
    {
     "name": "stderr",
     "output_type": "stream",
     "text": [
      "/Users/greg/code/env/stability/lib/python3.7/site-packages/hyppo/_utils.py:67: RuntimeWarning: The number of replications is low (under 1000), and p-value calculations may be unreliable. Use the p-value result, with caution!\n",
      "  warnings.warn(msg, RuntimeWarning)\n"
     ]
    },
    {
     "name": "stdout",
     "output_type": "stream",
     "text": [
      "0.8196443089430895 0.3333333333333333\n"
     ]
    },
    {
     "name": "stderr",
     "output_type": "stream",
     "text": [
      "/Users/greg/code/env/stability/lib/python3.7/site-packages/hyppo/_utils.py:67: RuntimeWarning: The number of replications is low (under 1000), and p-value calculations may be unreliable. Use the p-value result, with caution!\n",
      "  warnings.warn(msg, RuntimeWarning)\n"
     ]
    },
    {
     "name": "stdout",
     "output_type": "stream",
     "text": [
      "0.8158580369817303 0.8196443089430895 1.0\n",
      "det\n"
     ]
    },
    {
     "name": "stderr",
     "output_type": "stream",
     "text": [
      "/Users/greg/code/env/stability/lib/python3.7/site-packages/hyppo/_utils.py:67: RuntimeWarning: The number of replications is low (under 1000), and p-value calculations may be unreliable. Use the p-value result, with caution!\n",
      "  warnings.warn(msg, RuntimeWarning)\n"
     ]
    },
    {
     "name": "stdout",
     "output_type": "stream",
     "text": [
      "0.64 0.3333333333333333\n",
      "prob\n"
     ]
    },
    {
     "name": "stderr",
     "output_type": "stream",
     "text": [
      "/Users/greg/code/env/stability/lib/python3.7/site-packages/hyppo/_utils.py:67: RuntimeWarning: The number of replications is low (under 1000), and p-value calculations may be unreliable. Use the p-value result, with caution!\n",
      "  warnings.warn(msg, RuntimeWarning)\n"
     ]
    },
    {
     "name": "stdout",
     "output_type": "stream",
     "text": [
      "0.6479166666666667 0.3333333333333333\n"
     ]
    },
    {
     "name": "stderr",
     "output_type": "stream",
     "text": [
      "/Users/greg/code/env/stability/lib/python3.7/site-packages/hyppo/_utils.py:67: RuntimeWarning: The number of replications is low (under 1000), and p-value calculations may be unreliable. Use the p-value result, with caution!\n",
      "  warnings.warn(msg, RuntimeWarning)\n"
     ]
    },
    {
     "name": "stdout",
     "output_type": "stream",
     "text": [
      "0.64 0.6479166666666667 1.0\n",
      "det\n"
     ]
    },
    {
     "name": "stderr",
     "output_type": "stream",
     "text": [
      "/Users/greg/code/env/stability/lib/python3.7/site-packages/hyppo/_utils.py:67: RuntimeWarning: The number of replications is low (under 1000), and p-value calculations may be unreliable. Use the p-value result, with caution!\n",
      "  warnings.warn(msg, RuntimeWarning)\n"
     ]
    },
    {
     "name": "stdout",
     "output_type": "stream",
     "text": [
      "0.8157887653706468 0.3333333333333333\n",
      "prob\n"
     ]
    },
    {
     "name": "stderr",
     "output_type": "stream",
     "text": [
      "/Users/greg/code/env/stability/lib/python3.7/site-packages/hyppo/_utils.py:67: RuntimeWarning: The number of replications is low (under 1000), and p-value calculations may be unreliable. Use the p-value result, with caution!\n",
      "  warnings.warn(msg, RuntimeWarning)\n"
     ]
    },
    {
     "name": "stdout",
     "output_type": "stream",
     "text": [
      "0.8166773132017034 0.3333333333333333\n"
     ]
    },
    {
     "name": "stderr",
     "output_type": "stream",
     "text": [
      "/Users/greg/code/env/stability/lib/python3.7/site-packages/hyppo/_utils.py:67: RuntimeWarning: The number of replications is low (under 1000), and p-value calculations may be unreliable. Use the p-value result, with caution!\n",
      "  warnings.warn(msg, RuntimeWarning)\n"
     ]
    },
    {
     "name": "stdout",
     "output_type": "stream",
     "text": [
      "0.8157887653706468 0.8166773132017034 1.0\n",
      "det\n"
     ]
    },
    {
     "name": "stderr",
     "output_type": "stream",
     "text": [
      "/Users/greg/code/env/stability/lib/python3.7/site-packages/hyppo/_utils.py:67: RuntimeWarning: The number of replications is low (under 1000), and p-value calculations may be unreliable. Use the p-value result, with caution!\n",
      "  warnings.warn(msg, RuntimeWarning)\n"
     ]
    },
    {
     "name": "stdout",
     "output_type": "stream",
     "text": [
      "0.6408333333333335 0.3333333333333333\n",
      "prob\n"
     ]
    },
    {
     "name": "stderr",
     "output_type": "stream",
     "text": [
      "/Users/greg/code/env/stability/lib/python3.7/site-packages/hyppo/_utils.py:67: RuntimeWarning: The number of replications is low (under 1000), and p-value calculations may be unreliable. Use the p-value result, with caution!\n",
      "  warnings.warn(msg, RuntimeWarning)\n"
     ]
    },
    {
     "name": "stdout",
     "output_type": "stream",
     "text": [
      "0.6420833333333335 0.3333333333333333\n"
     ]
    },
    {
     "name": "stderr",
     "output_type": "stream",
     "text": [
      "/Users/greg/code/env/stability/lib/python3.7/site-packages/hyppo/_utils.py:67: RuntimeWarning: The number of replications is low (under 1000), and p-value calculations may be unreliable. Use the p-value result, with caution!\n",
      "  warnings.warn(msg, RuntimeWarning)\n"
     ]
    },
    {
     "name": "stdout",
     "output_type": "stream",
     "text": [
      "0.6408333333333335 0.6420833333333335 1.0\n",
      "det\n"
     ]
    },
    {
     "name": "stderr",
     "output_type": "stream",
     "text": [
      "/Users/greg/code/env/stability/lib/python3.7/site-packages/hyppo/_utils.py:67: RuntimeWarning: The number of replications is low (under 1000), and p-value calculations may be unreliable. Use the p-value result, with caution!\n",
      "  warnings.warn(msg, RuntimeWarning)\n"
     ]
    },
    {
     "name": "stdout",
     "output_type": "stream",
     "text": [
      "1.0 0.3333333333333333\n",
      "prob\n"
     ]
    },
    {
     "name": "stderr",
     "output_type": "stream",
     "text": [
      "/Users/greg/code/env/stability/lib/python3.7/site-packages/hyppo/_utils.py:67: RuntimeWarning: The number of replications is low (under 1000), and p-value calculations may be unreliable. Use the p-value result, with caution!\n",
      "  warnings.warn(msg, RuntimeWarning)\n"
     ]
    },
    {
     "name": "stdout",
     "output_type": "stream",
     "text": [
      "1.0 0.3333333333333333\n"
     ]
    },
    {
     "name": "stderr",
     "output_type": "stream",
     "text": [
      "/Users/greg/code/env/stability/lib/python3.7/site-packages/hyppo/_utils.py:67: RuntimeWarning: The number of replications is low (under 1000), and p-value calculations may be unreliable. Use the p-value result, with caution!\n",
      "  warnings.warn(msg, RuntimeWarning)\n"
     ]
    },
    {
     "name": "stdout",
     "output_type": "stream",
     "text": [
      "1.0 1.0 1.0\n",
      "det\n"
     ]
    },
    {
     "name": "stderr",
     "output_type": "stream",
     "text": [
      "/Users/greg/code/env/stability/lib/python3.7/site-packages/hyppo/_utils.py:67: RuntimeWarning: The number of replications is low (under 1000), and p-value calculations may be unreliable. Use the p-value result, with caution!\n",
      "  warnings.warn(msg, RuntimeWarning)\n"
     ]
    },
    {
     "name": "stdout",
     "output_type": "stream",
     "text": [
      "1.0 0.3333333333333333\n",
      "prob\n"
     ]
    },
    {
     "name": "stderr",
     "output_type": "stream",
     "text": [
      "/Users/greg/code/env/stability/lib/python3.7/site-packages/hyppo/_utils.py:67: RuntimeWarning: The number of replications is low (under 1000), and p-value calculations may be unreliable. Use the p-value result, with caution!\n",
      "  warnings.warn(msg, RuntimeWarning)\n"
     ]
    },
    {
     "name": "stdout",
     "output_type": "stream",
     "text": [
      "1.0 0.3333333333333333\n"
     ]
    },
    {
     "name": "stderr",
     "output_type": "stream",
     "text": [
      "/Users/greg/code/env/stability/lib/python3.7/site-packages/hyppo/_utils.py:67: RuntimeWarning: The number of replications is low (under 1000), and p-value calculations may be unreliable. Use the p-value result, with caution!\n",
      "  warnings.warn(msg, RuntimeWarning)\n"
     ]
    },
    {
     "name": "stdout",
     "output_type": "stream",
     "text": [
      "1.0 1.0 1.0\n",
      "det\n"
     ]
    },
    {
     "name": "stderr",
     "output_type": "stream",
     "text": [
      "/Users/greg/code/env/stability/lib/python3.7/site-packages/hyppo/_utils.py:67: RuntimeWarning: The number of replications is low (under 1000), and p-value calculations may be unreliable. Use the p-value result, with caution!\n",
      "  warnings.warn(msg, RuntimeWarning)\n"
     ]
    },
    {
     "name": "stdout",
     "output_type": "stream",
     "text": [
      "1.0 0.3333333333333333\n",
      "prob\n"
     ]
    },
    {
     "name": "stderr",
     "output_type": "stream",
     "text": [
      "/Users/greg/code/env/stability/lib/python3.7/site-packages/hyppo/_utils.py:67: RuntimeWarning: The number of replications is low (under 1000), and p-value calculations may be unreliable. Use the p-value result, with caution!\n",
      "  warnings.warn(msg, RuntimeWarning)\n"
     ]
    },
    {
     "name": "stdout",
     "output_type": "stream",
     "text": [
      "1.0 0.3333333333333333\n"
     ]
    },
    {
     "name": "stderr",
     "output_type": "stream",
     "text": [
      "/Users/greg/code/env/stability/lib/python3.7/site-packages/hyppo/_utils.py:67: RuntimeWarning: The number of replications is low (under 1000), and p-value calculations may be unreliable. Use the p-value result, with caution!\n",
      "  warnings.warn(msg, RuntimeWarning)\n"
     ]
    },
    {
     "name": "stdout",
     "output_type": "stream",
     "text": [
      "1.0 1.0 1.0\n",
      "det\n"
     ]
    },
    {
     "name": "stderr",
     "output_type": "stream",
     "text": [
      "/Users/greg/code/env/stability/lib/python3.7/site-packages/hyppo/_utils.py:67: RuntimeWarning: The number of replications is low (under 1000), and p-value calculations may be unreliable. Use the p-value result, with caution!\n",
      "  warnings.warn(msg, RuntimeWarning)\n"
     ]
    },
    {
     "name": "stdout",
     "output_type": "stream",
     "text": [
      "1.0 0.3333333333333333\n",
      "prob\n"
     ]
    },
    {
     "name": "stderr",
     "output_type": "stream",
     "text": [
      "/Users/greg/code/env/stability/lib/python3.7/site-packages/hyppo/_utils.py:67: RuntimeWarning: The number of replications is low (under 1000), and p-value calculations may be unreliable. Use the p-value result, with caution!\n",
      "  warnings.warn(msg, RuntimeWarning)\n"
     ]
    },
    {
     "name": "stdout",
     "output_type": "stream",
     "text": [
      "1.0 0.3333333333333333\n"
     ]
    },
    {
     "name": "stderr",
     "output_type": "stream",
     "text": [
      "/Users/greg/code/env/stability/lib/python3.7/site-packages/hyppo/_utils.py:67: RuntimeWarning: The number of replications is low (under 1000), and p-value calculations may be unreliable. Use the p-value result, with caution!\n",
      "  warnings.warn(msg, RuntimeWarning)\n"
     ]
    },
    {
     "name": "stdout",
     "output_type": "stream",
     "text": [
      "1.0 1.0 1.0\n",
      "det\n"
     ]
    },
    {
     "name": "stderr",
     "output_type": "stream",
     "text": [
      "/Users/greg/code/env/stability/lib/python3.7/site-packages/hyppo/_utils.py:67: RuntimeWarning: The number of replications is low (under 1000), and p-value calculations may be unreliable. Use the p-value result, with caution!\n",
      "  warnings.warn(msg, RuntimeWarning)\n"
     ]
    },
    {
     "name": "stdout",
     "output_type": "stream",
     "text": [
      "1.0 0.3333333333333333\n",
      "prob\n"
     ]
    },
    {
     "name": "stderr",
     "output_type": "stream",
     "text": [
      "/Users/greg/code/env/stability/lib/python3.7/site-packages/hyppo/_utils.py:67: RuntimeWarning: The number of replications is low (under 1000), and p-value calculations may be unreliable. Use the p-value result, with caution!\n",
      "  warnings.warn(msg, RuntimeWarning)\n"
     ]
    },
    {
     "name": "stdout",
     "output_type": "stream",
     "text": [
      "1.0 0.3333333333333333\n"
     ]
    },
    {
     "name": "stderr",
     "output_type": "stream",
     "text": [
      "/Users/greg/code/env/stability/lib/python3.7/site-packages/hyppo/_utils.py:67: RuntimeWarning: The number of replications is low (under 1000), and p-value calculations may be unreliable. Use the p-value result, with caution!\n",
      "  warnings.warn(msg, RuntimeWarning)\n"
     ]
    },
    {
     "name": "stdout",
     "output_type": "stream",
     "text": [
      "1.0 1.0 1.0\n",
      "det\n"
     ]
    },
    {
     "name": "stderr",
     "output_type": "stream",
     "text": [
      "/Users/greg/code/env/stability/lib/python3.7/site-packages/hyppo/_utils.py:67: RuntimeWarning: The number of replications is low (under 1000), and p-value calculations may be unreliable. Use the p-value result, with caution!\n",
      "  warnings.warn(msg, RuntimeWarning)\n"
     ]
    },
    {
     "name": "stdout",
     "output_type": "stream",
     "text": [
      "1.0 0.3333333333333333\n",
      "prob\n"
     ]
    },
    {
     "name": "stderr",
     "output_type": "stream",
     "text": [
      "/Users/greg/code/env/stability/lib/python3.7/site-packages/hyppo/_utils.py:67: RuntimeWarning: The number of replications is low (under 1000), and p-value calculations may be unreliable. Use the p-value result, with caution!\n",
      "  warnings.warn(msg, RuntimeWarning)\n"
     ]
    },
    {
     "name": "stdout",
     "output_type": "stream",
     "text": [
      "1.0 0.3333333333333333\n"
     ]
    },
    {
     "name": "stderr",
     "output_type": "stream",
     "text": [
      "/Users/greg/code/env/stability/lib/python3.7/site-packages/hyppo/_utils.py:67: RuntimeWarning: The number of replications is low (under 1000), and p-value calculations may be unreliable. Use the p-value result, with caution!\n",
      "  warnings.warn(msg, RuntimeWarning)\n"
     ]
    },
    {
     "name": "stdout",
     "output_type": "stream",
     "text": [
      "1.0 1.0 1.0\n",
      "det\n"
     ]
    },
    {
     "name": "stderr",
     "output_type": "stream",
     "text": [
      "/Users/greg/code/env/stability/lib/python3.7/site-packages/hyppo/_utils.py:67: RuntimeWarning: The number of replications is low (under 1000), and p-value calculations may be unreliable. Use the p-value result, with caution!\n",
      "  warnings.warn(msg, RuntimeWarning)\n"
     ]
    },
    {
     "name": "stdout",
     "output_type": "stream",
     "text": [
      "1.0 0.3333333333333333\n",
      "prob\n"
     ]
    },
    {
     "name": "stderr",
     "output_type": "stream",
     "text": [
      "/Users/greg/code/env/stability/lib/python3.7/site-packages/hyppo/_utils.py:67: RuntimeWarning: The number of replications is low (under 1000), and p-value calculations may be unreliable. Use the p-value result, with caution!\n",
      "  warnings.warn(msg, RuntimeWarning)\n"
     ]
    },
    {
     "name": "stdout",
     "output_type": "stream",
     "text": [
      "1.0 0.3333333333333333\n"
     ]
    },
    {
     "name": "stderr",
     "output_type": "stream",
     "text": [
      "/Users/greg/code/env/stability/lib/python3.7/site-packages/hyppo/_utils.py:67: RuntimeWarning: The number of replications is low (under 1000), and p-value calculations may be unreliable. Use the p-value result, with caution!\n",
      "  warnings.warn(msg, RuntimeWarning)\n"
     ]
    },
    {
     "name": "stdout",
     "output_type": "stream",
     "text": [
      "1.0 1.0 1.0\n",
      "det\n"
     ]
    },
    {
     "name": "stderr",
     "output_type": "stream",
     "text": [
      "/Users/greg/code/env/stability/lib/python3.7/site-packages/hyppo/_utils.py:67: RuntimeWarning: The number of replications is low (under 1000), and p-value calculations may be unreliable. Use the p-value result, with caution!\n",
      "  warnings.warn(msg, RuntimeWarning)\n"
     ]
    },
    {
     "name": "stdout",
     "output_type": "stream",
     "text": [
      "1.0 0.3333333333333333\n",
      "prob\n"
     ]
    },
    {
     "name": "stderr",
     "output_type": "stream",
     "text": [
      "/Users/greg/code/env/stability/lib/python3.7/site-packages/hyppo/_utils.py:67: RuntimeWarning: The number of replications is low (under 1000), and p-value calculations may be unreliable. Use the p-value result, with caution!\n",
      "  warnings.warn(msg, RuntimeWarning)\n"
     ]
    },
    {
     "name": "stdout",
     "output_type": "stream",
     "text": [
      "1.0 0.3333333333333333\n"
     ]
    },
    {
     "name": "stderr",
     "output_type": "stream",
     "text": [
      "/Users/greg/code/env/stability/lib/python3.7/site-packages/hyppo/_utils.py:67: RuntimeWarning: The number of replications is low (under 1000), and p-value calculations may be unreliable. Use the p-value result, with caution!\n",
      "  warnings.warn(msg, RuntimeWarning)\n"
     ]
    },
    {
     "name": "stdout",
     "output_type": "stream",
     "text": [
      "1.0 1.0 1.0\n",
      "Inputs\n",
      "det\n"
     ]
    },
    {
     "name": "stderr",
     "output_type": "stream",
     "text": [
      "/Users/greg/code/env/stability/lib/python3.7/site-packages/hyppo/_utils.py:67: RuntimeWarning: The number of replications is low (under 1000), and p-value calculations may be unreliable. Use the p-value result, with caution!\n",
      "  warnings.warn(msg, RuntimeWarning)\n"
     ]
    },
    {
     "name": "stdout",
     "output_type": "stream",
     "text": [
      "0.7712279464631382 0.3333333333333333\n",
      "prob\n"
     ]
    },
    {
     "name": "stderr",
     "output_type": "stream",
     "text": [
      "/Users/greg/code/env/stability/lib/python3.7/site-packages/hyppo/_utils.py:67: RuntimeWarning: The number of replications is low (under 1000), and p-value calculations may be unreliable. Use the p-value result, with caution!\n",
      "  warnings.warn(msg, RuntimeWarning)\n"
     ]
    },
    {
     "name": "stdout",
     "output_type": "stream",
     "text": [
      "0.7467773721954907 0.3333333333333333\n"
     ]
    },
    {
     "name": "stderr",
     "output_type": "stream",
     "text": [
      "/Users/greg/code/env/stability/lib/python3.7/site-packages/hyppo/_utils.py:67: RuntimeWarning: The number of replications is low (under 1000), and p-value calculations may be unreliable. Use the p-value result, with caution!\n",
      "  warnings.warn(msg, RuntimeWarning)\n"
     ]
    },
    {
     "name": "stdout",
     "output_type": "stream",
     "text": [
      "0.7712279464631382 0.7467773721954907 0.3333333333333333\n",
      "det\n"
     ]
    },
    {
     "name": "stderr",
     "output_type": "stream",
     "text": [
      "/Users/greg/code/env/stability/lib/python3.7/site-packages/hyppo/_utils.py:67: RuntimeWarning: The number of replications is low (under 1000), and p-value calculations may be unreliable. Use the p-value result, with caution!\n",
      "  warnings.warn(msg, RuntimeWarning)\n"
     ]
    },
    {
     "name": "stdout",
     "output_type": "stream",
     "text": [
      "0.64125 0.3333333333333333\n",
      "prob\n"
     ]
    },
    {
     "name": "stderr",
     "output_type": "stream",
     "text": [
      "/Users/greg/code/env/stability/lib/python3.7/site-packages/hyppo/_utils.py:67: RuntimeWarning: The number of replications is low (under 1000), and p-value calculations may be unreliable. Use the p-value result, with caution!\n",
      "  warnings.warn(msg, RuntimeWarning)\n"
     ]
    },
    {
     "name": "stdout",
     "output_type": "stream",
     "text": [
      "0.6479166666666666 0.3333333333333333\n"
     ]
    },
    {
     "name": "stderr",
     "output_type": "stream",
     "text": [
      "/Users/greg/code/env/stability/lib/python3.7/site-packages/hyppo/_utils.py:67: RuntimeWarning: The number of replications is low (under 1000), and p-value calculations may be unreliable. Use the p-value result, with caution!\n",
      "  warnings.warn(msg, RuntimeWarning)\n"
     ]
    },
    {
     "name": "stdout",
     "output_type": "stream",
     "text": [
      "0.64125 0.6479166666666666 1.0\n",
      "det\n"
     ]
    },
    {
     "name": "stderr",
     "output_type": "stream",
     "text": [
      "/Users/greg/code/env/stability/lib/python3.7/site-packages/hyppo/_utils.py:67: RuntimeWarning: The number of replications is low (under 1000), and p-value calculations may be unreliable. Use the p-value result, with caution!\n",
      "  warnings.warn(msg, RuntimeWarning)\n"
     ]
    },
    {
     "name": "stdout",
     "output_type": "stream",
     "text": [
      "0.7632005281787512 0.3333333333333333\n",
      "prob\n"
     ]
    },
    {
     "name": "stderr",
     "output_type": "stream",
     "text": [
      "/Users/greg/code/env/stability/lib/python3.7/site-packages/hyppo/_utils.py:67: RuntimeWarning: The number of replications is low (under 1000), and p-value calculations may be unreliable. Use the p-value result, with caution!\n",
      "  warnings.warn(msg, RuntimeWarning)\n"
     ]
    },
    {
     "name": "stdout",
     "output_type": "stream",
     "text": [
      "0.7469585937355971 0.3333333333333333\n"
     ]
    },
    {
     "name": "stderr",
     "output_type": "stream",
     "text": [
      "/Users/greg/code/env/stability/lib/python3.7/site-packages/hyppo/_utils.py:67: RuntimeWarning: The number of replications is low (under 1000), and p-value calculations may be unreliable. Use the p-value result, with caution!\n",
      "  warnings.warn(msg, RuntimeWarning)\n"
     ]
    },
    {
     "name": "stdout",
     "output_type": "stream",
     "text": [
      "0.7632005281787512 0.7469585937355971 0.3333333333333333\n",
      "det\n"
     ]
    },
    {
     "name": "stderr",
     "output_type": "stream",
     "text": [
      "/Users/greg/code/env/stability/lib/python3.7/site-packages/hyppo/_utils.py:67: RuntimeWarning: The number of replications is low (under 1000), and p-value calculations may be unreliable. Use the p-value result, with caution!\n",
      "  warnings.warn(msg, RuntimeWarning)\n"
     ]
    },
    {
     "name": "stdout",
     "output_type": "stream",
     "text": [
      "0.6404166666666665 0.3333333333333333\n",
      "prob\n"
     ]
    },
    {
     "name": "stderr",
     "output_type": "stream",
     "text": [
      "/Users/greg/code/env/stability/lib/python3.7/site-packages/hyppo/_utils.py:67: RuntimeWarning: The number of replications is low (under 1000), and p-value calculations may be unreliable. Use the p-value result, with caution!\n",
      "  warnings.warn(msg, RuntimeWarning)\n"
     ]
    },
    {
     "name": "stdout",
     "output_type": "stream",
     "text": [
      "0.6420833333333333 0.3333333333333333\n"
     ]
    },
    {
     "name": "stderr",
     "output_type": "stream",
     "text": [
      "/Users/greg/code/env/stability/lib/python3.7/site-packages/hyppo/_utils.py:67: RuntimeWarning: The number of replications is low (under 1000), and p-value calculations may be unreliable. Use the p-value result, with caution!\n",
      "  warnings.warn(msg, RuntimeWarning)\n"
     ]
    },
    {
     "name": "stdout",
     "output_type": "stream",
     "text": [
      "0.6404166666666665 0.6420833333333333 1.0\n",
      "det\n"
     ]
    },
    {
     "name": "stderr",
     "output_type": "stream",
     "text": [
      "/Users/greg/code/env/stability/lib/python3.7/site-packages/hyppo/_utils.py:67: RuntimeWarning: The number of replications is low (under 1000), and p-value calculations may be unreliable. Use the p-value result, with caution!\n",
      "  warnings.warn(msg, RuntimeWarning)\n"
     ]
    },
    {
     "name": "stdout",
     "output_type": "stream",
     "text": [
      "0.9075307873827038 0.3333333333333333\n",
      "prob\n"
     ]
    },
    {
     "name": "stderr",
     "output_type": "stream",
     "text": [
      "/Users/greg/code/env/stability/lib/python3.7/site-packages/hyppo/_utils.py:67: RuntimeWarning: The number of replications is low (under 1000), and p-value calculations may be unreliable. Use the p-value result, with caution!\n",
      "  warnings.warn(msg, RuntimeWarning)\n"
     ]
    },
    {
     "name": "stdout",
     "output_type": "stream",
     "text": [
      "0.8826487980015855 0.3333333333333333\n"
     ]
    },
    {
     "name": "stderr",
     "output_type": "stream",
     "text": [
      "/Users/greg/code/env/stability/lib/python3.7/site-packages/hyppo/_utils.py:67: RuntimeWarning: The number of replications is low (under 1000), and p-value calculations may be unreliable. Use the p-value result, with caution!\n",
      "  warnings.warn(msg, RuntimeWarning)\n"
     ]
    },
    {
     "name": "stdout",
     "output_type": "stream",
     "text": [
      "0.9075307873827038 0.8826487980015855 0.3333333333333333\n",
      "det\n"
     ]
    },
    {
     "name": "stderr",
     "output_type": "stream",
     "text": [
      "/Users/greg/code/env/stability/lib/python3.7/site-packages/hyppo/_utils.py:67: RuntimeWarning: The number of replications is low (under 1000), and p-value calculations may be unreliable. Use the p-value result, with caution!\n",
      "  warnings.warn(msg, RuntimeWarning)\n"
     ]
    },
    {
     "name": "stdout",
     "output_type": "stream",
     "text": [
      "1.0 0.3333333333333333\n",
      "prob\n"
     ]
    },
    {
     "name": "stderr",
     "output_type": "stream",
     "text": [
      "/Users/greg/code/env/stability/lib/python3.7/site-packages/hyppo/_utils.py:67: RuntimeWarning: The number of replications is low (under 1000), and p-value calculations may be unreliable. Use the p-value result, with caution!\n",
      "  warnings.warn(msg, RuntimeWarning)\n"
     ]
    },
    {
     "name": "stdout",
     "output_type": "stream",
     "text": [
      "1.0 0.3333333333333333\n"
     ]
    },
    {
     "name": "stderr",
     "output_type": "stream",
     "text": [
      "/Users/greg/code/env/stability/lib/python3.7/site-packages/hyppo/_utils.py:67: RuntimeWarning: The number of replications is low (under 1000), and p-value calculations may be unreliable. Use the p-value result, with caution!\n",
      "  warnings.warn(msg, RuntimeWarning)\n"
     ]
    },
    {
     "name": "stdout",
     "output_type": "stream",
     "text": [
      "1.0 1.0 1.0\n",
      "det\n"
     ]
    },
    {
     "name": "stderr",
     "output_type": "stream",
     "text": [
      "/Users/greg/code/env/stability/lib/python3.7/site-packages/hyppo/_utils.py:67: RuntimeWarning: The number of replications is low (under 1000), and p-value calculations may be unreliable. Use the p-value result, with caution!\n",
      "  warnings.warn(msg, RuntimeWarning)\n"
     ]
    },
    {
     "name": "stdout",
     "output_type": "stream",
     "text": [
      "0.9169514361300076 0.3333333333333333\n",
      "prob\n"
     ]
    },
    {
     "name": "stderr",
     "output_type": "stream",
     "text": [
      "/Users/greg/code/env/stability/lib/python3.7/site-packages/hyppo/_utils.py:67: RuntimeWarning: The number of replications is low (under 1000), and p-value calculations may be unreliable. Use the p-value result, with caution!\n",
      "  warnings.warn(msg, RuntimeWarning)\n"
     ]
    },
    {
     "name": "stdout",
     "output_type": "stream",
     "text": [
      "0.8792715419501134 0.3333333333333333\n"
     ]
    },
    {
     "name": "stderr",
     "output_type": "stream",
     "text": [
      "/Users/greg/code/env/stability/lib/python3.7/site-packages/hyppo/_utils.py:67: RuntimeWarning: The number of replications is low (under 1000), and p-value calculations may be unreliable. Use the p-value result, with caution!\n",
      "  warnings.warn(msg, RuntimeWarning)\n"
     ]
    },
    {
     "name": "stdout",
     "output_type": "stream",
     "text": [
      "0.9169514361300076 0.8792715419501134 0.3333333333333333\n",
      "det\n"
     ]
    },
    {
     "name": "stderr",
     "output_type": "stream",
     "text": [
      "/Users/greg/code/env/stability/lib/python3.7/site-packages/hyppo/_utils.py:67: RuntimeWarning: The number of replications is low (under 1000), and p-value calculations may be unreliable. Use the p-value result, with caution!\n",
      "  warnings.warn(msg, RuntimeWarning)\n"
     ]
    },
    {
     "name": "stdout",
     "output_type": "stream",
     "text": [
      "0.9080971277399849 0.3333333333333333\n",
      "prob\n"
     ]
    },
    {
     "name": "stderr",
     "output_type": "stream",
     "text": [
      "/Users/greg/code/env/stability/lib/python3.7/site-packages/hyppo/_utils.py:67: RuntimeWarning: The number of replications is low (under 1000), and p-value calculations may be unreliable. Use the p-value result, with caution!\n",
      "  warnings.warn(msg, RuntimeWarning)\n"
     ]
    },
    {
     "name": "stdout",
     "output_type": "stream",
     "text": [
      "0.888212396069539 0.3333333333333333\n"
     ]
    },
    {
     "name": "stderr",
     "output_type": "stream",
     "text": [
      "/Users/greg/code/env/stability/lib/python3.7/site-packages/hyppo/_utils.py:67: RuntimeWarning: The number of replications is low (under 1000), and p-value calculations may be unreliable. Use the p-value result, with caution!\n",
      "  warnings.warn(msg, RuntimeWarning)\n"
     ]
    },
    {
     "name": "stdout",
     "output_type": "stream",
     "text": [
      "0.9080971277399849 0.888212396069539 0.3333333333333333\n",
      "det\n"
     ]
    },
    {
     "name": "stderr",
     "output_type": "stream",
     "text": [
      "/Users/greg/code/env/stability/lib/python3.7/site-packages/hyppo/_utils.py:67: RuntimeWarning: The number of replications is low (under 1000), and p-value calculations may be unreliable. Use the p-value result, with caution!\n",
      "  warnings.warn(msg, RuntimeWarning)\n"
     ]
    },
    {
     "name": "stdout",
     "output_type": "stream",
     "text": [
      "0.9075307873827038 0.3333333333333333\n",
      "prob\n"
     ]
    },
    {
     "name": "stderr",
     "output_type": "stream",
     "text": [
      "/Users/greg/code/env/stability/lib/python3.7/site-packages/hyppo/_utils.py:67: RuntimeWarning: The number of replications is low (under 1000), and p-value calculations may be unreliable. Use the p-value result, with caution!\n",
      "  warnings.warn(msg, RuntimeWarning)\n"
     ]
    },
    {
     "name": "stdout",
     "output_type": "stream",
     "text": [
      "0.8826487980015855 0.3333333333333333\n"
     ]
    },
    {
     "name": "stderr",
     "output_type": "stream",
     "text": [
      "/Users/greg/code/env/stability/lib/python3.7/site-packages/hyppo/_utils.py:67: RuntimeWarning: The number of replications is low (under 1000), and p-value calculations may be unreliable. Use the p-value result, with caution!\n",
      "  warnings.warn(msg, RuntimeWarning)\n"
     ]
    },
    {
     "name": "stdout",
     "output_type": "stream",
     "text": [
      "0.9075307873827038 0.8826487980015855 0.3333333333333333\n",
      "det\n"
     ]
    },
    {
     "name": "stderr",
     "output_type": "stream",
     "text": [
      "/Users/greg/code/env/stability/lib/python3.7/site-packages/hyppo/_utils.py:67: RuntimeWarning: The number of replications is low (under 1000), and p-value calculations may be unreliable. Use the p-value result, with caution!\n",
      "  warnings.warn(msg, RuntimeWarning)\n"
     ]
    },
    {
     "name": "stdout",
     "output_type": "stream",
     "text": [
      "1.0 0.3333333333333333\n",
      "prob\n"
     ]
    },
    {
     "name": "stderr",
     "output_type": "stream",
     "text": [
      "/Users/greg/code/env/stability/lib/python3.7/site-packages/hyppo/_utils.py:67: RuntimeWarning: The number of replications is low (under 1000), and p-value calculations may be unreliable. Use the p-value result, with caution!\n",
      "  warnings.warn(msg, RuntimeWarning)\n"
     ]
    },
    {
     "name": "stdout",
     "output_type": "stream",
     "text": [
      "1.0 0.3333333333333333\n"
     ]
    },
    {
     "name": "stderr",
     "output_type": "stream",
     "text": [
      "/Users/greg/code/env/stability/lib/python3.7/site-packages/hyppo/_utils.py:67: RuntimeWarning: The number of replications is low (under 1000), and p-value calculations may be unreliable. Use the p-value result, with caution!\n",
      "  warnings.warn(msg, RuntimeWarning)\n"
     ]
    },
    {
     "name": "stdout",
     "output_type": "stream",
     "text": [
      "1.0 1.0 1.0\n",
      "det\n"
     ]
    },
    {
     "name": "stderr",
     "output_type": "stream",
     "text": [
      "/Users/greg/code/env/stability/lib/python3.7/site-packages/hyppo/_utils.py:67: RuntimeWarning: The number of replications is low (under 1000), and p-value calculations may be unreliable. Use the p-value result, with caution!\n",
      "  warnings.warn(msg, RuntimeWarning)\n"
     ]
    },
    {
     "name": "stdout",
     "output_type": "stream",
     "text": [
      "0.9169514361300076 0.3333333333333333\n",
      "prob\n"
     ]
    },
    {
     "name": "stderr",
     "output_type": "stream",
     "text": [
      "/Users/greg/code/env/stability/lib/python3.7/site-packages/hyppo/_utils.py:67: RuntimeWarning: The number of replications is low (under 1000), and p-value calculations may be unreliable. Use the p-value result, with caution!\n",
      "  warnings.warn(msg, RuntimeWarning)\n"
     ]
    },
    {
     "name": "stdout",
     "output_type": "stream",
     "text": [
      "0.8792715419501134 0.3333333333333333\n"
     ]
    },
    {
     "name": "stderr",
     "output_type": "stream",
     "text": [
      "/Users/greg/code/env/stability/lib/python3.7/site-packages/hyppo/_utils.py:67: RuntimeWarning: The number of replications is low (under 1000), and p-value calculations may be unreliable. Use the p-value result, with caution!\n",
      "  warnings.warn(msg, RuntimeWarning)\n"
     ]
    },
    {
     "name": "stdout",
     "output_type": "stream",
     "text": [
      "0.9169514361300076 0.8792715419501134 0.3333333333333333\n",
      "det\n"
     ]
    },
    {
     "name": "stderr",
     "output_type": "stream",
     "text": [
      "/Users/greg/code/env/stability/lib/python3.7/site-packages/hyppo/_utils.py:67: RuntimeWarning: The number of replications is low (under 1000), and p-value calculations may be unreliable. Use the p-value result, with caution!\n",
      "  warnings.warn(msg, RuntimeWarning)\n"
     ]
    },
    {
     "name": "stdout",
     "output_type": "stream",
     "text": [
      "0.9080971277399849 0.3333333333333333\n",
      "prob\n"
     ]
    },
    {
     "name": "stderr",
     "output_type": "stream",
     "text": [
      "/Users/greg/code/env/stability/lib/python3.7/site-packages/hyppo/_utils.py:67: RuntimeWarning: The number of replications is low (under 1000), and p-value calculations may be unreliable. Use the p-value result, with caution!\n",
      "  warnings.warn(msg, RuntimeWarning)\n"
     ]
    },
    {
     "name": "stdout",
     "output_type": "stream",
     "text": [
      "0.888212396069539 0.3333333333333333\n"
     ]
    },
    {
     "name": "stderr",
     "output_type": "stream",
     "text": [
      "/Users/greg/code/env/stability/lib/python3.7/site-packages/hyppo/_utils.py:67: RuntimeWarning: The number of replications is low (under 1000), and p-value calculations may be unreliable. Use the p-value result, with caution!\n",
      "  warnings.warn(msg, RuntimeWarning)\n"
     ]
    },
    {
     "name": "stdout",
     "output_type": "stream",
     "text": [
      "0.9080971277399849 0.888212396069539 0.3333333333333333\n"
     ]
    }
   ],
   "source": [
    "stat_list = []\n",
    "reps = 3\n",
    "workers = 4\n",
    "np.random.seed(42)\n",
    "\n",
    "ssets = [[(s, df_[df_['subject']==s]['session'].unique()[i])\n",
    "          for s in df_['subject'].unique()]\n",
    "         for i in range(2)]\n",
    "\n",
    "for df_ in [df_fs, df_pyonly]:\n",
    "    instrum = df_['Instrumentation'].values[0]\n",
    "    print(instrum)\n",
    "\n",
    "    ## Hypothesis 1: cross-subject\n",
    "    hyp=1\n",
    "\n",
    "    ### Tests 1 & 2\n",
    "    for dir_ in df_['directions'].unique():\n",
    "        ### Test 1: Multi-session, 1 dir, all sims\n",
    "        test=1\n",
    "        df__ = df_[df_['directions'] == dir_]\n",
    "        stat_list += pipeline_discrims(df__, hyp=hyp, test=test, instrum=instrum, reps=reps)\n",
    "\n",
    "        ### Test 2: Multi-session, 1 dir, reference execution\n",
    "        test=2\n",
    "        df__ = df__[df__['simulation'] == 'ref']\n",
    "        stat_list += pipeline_discrims(df__, hyp=hyp, test=test, instrum=instrum, reps=reps)\n",
    "\n",
    "        del df__\n",
    "        \n",
    "    ### Tests 3, 4 & 5\n",
    "    for subses in ssets:\n",
    "        ### Test 3: Multi-direction, 1 session, all sims\n",
    "        test=3\n",
    "        qbase = '(subject == \"{0}\" and session == \"{1}\")'\n",
    "        q = [qbase.format(s[0], s[1]) for s in sets[0]]\n",
    "        df__ = pd.concat([df_.query(q_) for q_ in q])\n",
    "        stat_list += pipeline_discrims(df__, hyp=1, test=test, instrum=instrum, reps=reps)\n",
    "\n",
    "        ### Test 4: Multi-direction, 1 session, reference execution\n",
    "        test=4\n",
    "        df_1 = df__[df__['simulation'] == 'ref']\n",
    "        stat_list += pipeline_discrims(df_1, hyp=1, test=test, instrum=instrum, reps=reps)\n",
    "\n",
    "        ### Test 5: Multi-simulation, 1 dir, 1 session\n",
    "        test=5\n",
    "        for dir_ in df__['directions'].unique():\n",
    "            df_2 = df__[df__['directions'] == dir_]\n",
    "            stat_list += pipeline_discrims(df_2, hyp=1, test=test, instrum=instrum, reps=reps)\n",
    "\n",
    "        del df__, df_1, df_2"
   ]
  },
  {
   "cell_type": "code",
   "execution_count": 67,
   "metadata": {},
   "outputs": [
    {
     "data": {
      "text/html": [
       "<div>\n",
       "<style scoped>\n",
       "    .dataframe tbody tr th:only-of-type {\n",
       "        vertical-align: middle;\n",
       "    }\n",
       "\n",
       "    .dataframe tbody tr th {\n",
       "        vertical-align: top;\n",
       "    }\n",
       "\n",
       "    .dataframe thead th {\n",
       "        text-align: right;\n",
       "    }\n",
       "</style>\n",
       "<table border=\"1\" class=\"dataframe\">\n",
       "  <thead>\n",
       "    <tr style=\"text-align: right;\">\n",
       "      <th></th>\n",
       "      <th>hypothesis</th>\n",
       "      <th>test</th>\n",
       "      <th>pipeline</th>\n",
       "      <th>instrumentation</th>\n",
       "      <th>discrim</th>\n",
       "      <th>p-value</th>\n",
       "    </tr>\n",
       "  </thead>\n",
       "  <tbody>\n",
       "    <tr>\n",
       "      <th>0</th>\n",
       "      <td>1</td>\n",
       "      <td>1</td>\n",
       "      <td>det</td>\n",
       "      <td>Pipeline</td>\n",
       "      <td>0.815858</td>\n",
       "      <td>0.333333</td>\n",
       "    </tr>\n",
       "    <tr>\n",
       "      <th>1</th>\n",
       "      <td>1</td>\n",
       "      <td>1</td>\n",
       "      <td>prob</td>\n",
       "      <td>Pipeline</td>\n",
       "      <td>0.819644</td>\n",
       "      <td>0.333333</td>\n",
       "    </tr>\n",
       "    <tr>\n",
       "      <th>2</th>\n",
       "      <td>1</td>\n",
       "      <td>1</td>\n",
       "      <td>det-prob</td>\n",
       "      <td>Pipeline</td>\n",
       "      <td>-0.003786</td>\n",
       "      <td>1.000000</td>\n",
       "    </tr>\n",
       "    <tr>\n",
       "      <th>3</th>\n",
       "      <td>1</td>\n",
       "      <td>2</td>\n",
       "      <td>det</td>\n",
       "      <td>Pipeline</td>\n",
       "      <td>0.640000</td>\n",
       "      <td>0.333333</td>\n",
       "    </tr>\n",
       "    <tr>\n",
       "      <th>4</th>\n",
       "      <td>1</td>\n",
       "      <td>2</td>\n",
       "      <td>prob</td>\n",
       "      <td>Pipeline</td>\n",
       "      <td>0.647917</td>\n",
       "      <td>0.333333</td>\n",
       "    </tr>\n",
       "    <tr>\n",
       "      <th>5</th>\n",
       "      <td>1</td>\n",
       "      <td>2</td>\n",
       "      <td>det-prob</td>\n",
       "      <td>Pipeline</td>\n",
       "      <td>-0.007917</td>\n",
       "      <td>1.000000</td>\n",
       "    </tr>\n",
       "    <tr>\n",
       "      <th>6</th>\n",
       "      <td>1</td>\n",
       "      <td>1</td>\n",
       "      <td>det</td>\n",
       "      <td>Pipeline</td>\n",
       "      <td>0.815789</td>\n",
       "      <td>0.333333</td>\n",
       "    </tr>\n",
       "    <tr>\n",
       "      <th>7</th>\n",
       "      <td>1</td>\n",
       "      <td>1</td>\n",
       "      <td>prob</td>\n",
       "      <td>Pipeline</td>\n",
       "      <td>0.816677</td>\n",
       "      <td>0.333333</td>\n",
       "    </tr>\n",
       "    <tr>\n",
       "      <th>8</th>\n",
       "      <td>1</td>\n",
       "      <td>1</td>\n",
       "      <td>det-prob</td>\n",
       "      <td>Pipeline</td>\n",
       "      <td>-0.000889</td>\n",
       "      <td>1.000000</td>\n",
       "    </tr>\n",
       "    <tr>\n",
       "      <th>9</th>\n",
       "      <td>1</td>\n",
       "      <td>2</td>\n",
       "      <td>det</td>\n",
       "      <td>Pipeline</td>\n",
       "      <td>0.640833</td>\n",
       "      <td>0.333333</td>\n",
       "    </tr>\n",
       "    <tr>\n",
       "      <th>10</th>\n",
       "      <td>1</td>\n",
       "      <td>2</td>\n",
       "      <td>prob</td>\n",
       "      <td>Pipeline</td>\n",
       "      <td>0.642083</td>\n",
       "      <td>0.333333</td>\n",
       "    </tr>\n",
       "    <tr>\n",
       "      <th>11</th>\n",
       "      <td>1</td>\n",
       "      <td>2</td>\n",
       "      <td>det-prob</td>\n",
       "      <td>Pipeline</td>\n",
       "      <td>-0.001250</td>\n",
       "      <td>1.000000</td>\n",
       "    </tr>\n",
       "    <tr>\n",
       "      <th>12</th>\n",
       "      <td>1</td>\n",
       "      <td>3</td>\n",
       "      <td>det</td>\n",
       "      <td>Pipeline</td>\n",
       "      <td>1.000000</td>\n",
       "      <td>0.333333</td>\n",
       "    </tr>\n",
       "    <tr>\n",
       "      <th>13</th>\n",
       "      <td>1</td>\n",
       "      <td>3</td>\n",
       "      <td>prob</td>\n",
       "      <td>Pipeline</td>\n",
       "      <td>1.000000</td>\n",
       "      <td>0.333333</td>\n",
       "    </tr>\n",
       "    <tr>\n",
       "      <th>14</th>\n",
       "      <td>1</td>\n",
       "      <td>3</td>\n",
       "      <td>det-prob</td>\n",
       "      <td>Pipeline</td>\n",
       "      <td>0.000000</td>\n",
       "      <td>1.000000</td>\n",
       "    </tr>\n",
       "    <tr>\n",
       "      <th>15</th>\n",
       "      <td>1</td>\n",
       "      <td>4</td>\n",
       "      <td>det</td>\n",
       "      <td>Pipeline</td>\n",
       "      <td>1.000000</td>\n",
       "      <td>0.333333</td>\n",
       "    </tr>\n",
       "    <tr>\n",
       "      <th>16</th>\n",
       "      <td>1</td>\n",
       "      <td>4</td>\n",
       "      <td>prob</td>\n",
       "      <td>Pipeline</td>\n",
       "      <td>1.000000</td>\n",
       "      <td>0.333333</td>\n",
       "    </tr>\n",
       "    <tr>\n",
       "      <th>17</th>\n",
       "      <td>1</td>\n",
       "      <td>4</td>\n",
       "      <td>det-prob</td>\n",
       "      <td>Pipeline</td>\n",
       "      <td>0.000000</td>\n",
       "      <td>1.000000</td>\n",
       "    </tr>\n",
       "    <tr>\n",
       "      <th>18</th>\n",
       "      <td>1</td>\n",
       "      <td>5</td>\n",
       "      <td>det</td>\n",
       "      <td>Pipeline</td>\n",
       "      <td>1.000000</td>\n",
       "      <td>0.333333</td>\n",
       "    </tr>\n",
       "    <tr>\n",
       "      <th>19</th>\n",
       "      <td>1</td>\n",
       "      <td>5</td>\n",
       "      <td>prob</td>\n",
       "      <td>Pipeline</td>\n",
       "      <td>1.000000</td>\n",
       "      <td>0.333333</td>\n",
       "    </tr>\n",
       "    <tr>\n",
       "      <th>20</th>\n",
       "      <td>1</td>\n",
       "      <td>5</td>\n",
       "      <td>det-prob</td>\n",
       "      <td>Pipeline</td>\n",
       "      <td>0.000000</td>\n",
       "      <td>1.000000</td>\n",
       "    </tr>\n",
       "    <tr>\n",
       "      <th>21</th>\n",
       "      <td>1</td>\n",
       "      <td>5</td>\n",
       "      <td>det</td>\n",
       "      <td>Pipeline</td>\n",
       "      <td>1.000000</td>\n",
       "      <td>0.333333</td>\n",
       "    </tr>\n",
       "    <tr>\n",
       "      <th>22</th>\n",
       "      <td>1</td>\n",
       "      <td>5</td>\n",
       "      <td>prob</td>\n",
       "      <td>Pipeline</td>\n",
       "      <td>1.000000</td>\n",
       "      <td>0.333333</td>\n",
       "    </tr>\n",
       "    <tr>\n",
       "      <th>23</th>\n",
       "      <td>1</td>\n",
       "      <td>5</td>\n",
       "      <td>det-prob</td>\n",
       "      <td>Pipeline</td>\n",
       "      <td>0.000000</td>\n",
       "      <td>1.000000</td>\n",
       "    </tr>\n",
       "    <tr>\n",
       "      <th>24</th>\n",
       "      <td>1</td>\n",
       "      <td>3</td>\n",
       "      <td>det</td>\n",
       "      <td>Pipeline</td>\n",
       "      <td>1.000000</td>\n",
       "      <td>0.333333</td>\n",
       "    </tr>\n",
       "    <tr>\n",
       "      <th>25</th>\n",
       "      <td>1</td>\n",
       "      <td>3</td>\n",
       "      <td>prob</td>\n",
       "      <td>Pipeline</td>\n",
       "      <td>1.000000</td>\n",
       "      <td>0.333333</td>\n",
       "    </tr>\n",
       "    <tr>\n",
       "      <th>26</th>\n",
       "      <td>1</td>\n",
       "      <td>3</td>\n",
       "      <td>det-prob</td>\n",
       "      <td>Pipeline</td>\n",
       "      <td>0.000000</td>\n",
       "      <td>1.000000</td>\n",
       "    </tr>\n",
       "    <tr>\n",
       "      <th>27</th>\n",
       "      <td>1</td>\n",
       "      <td>4</td>\n",
       "      <td>det</td>\n",
       "      <td>Pipeline</td>\n",
       "      <td>1.000000</td>\n",
       "      <td>0.333333</td>\n",
       "    </tr>\n",
       "    <tr>\n",
       "      <th>28</th>\n",
       "      <td>1</td>\n",
       "      <td>4</td>\n",
       "      <td>prob</td>\n",
       "      <td>Pipeline</td>\n",
       "      <td>1.000000</td>\n",
       "      <td>0.333333</td>\n",
       "    </tr>\n",
       "    <tr>\n",
       "      <th>29</th>\n",
       "      <td>1</td>\n",
       "      <td>4</td>\n",
       "      <td>det-prob</td>\n",
       "      <td>Pipeline</td>\n",
       "      <td>0.000000</td>\n",
       "      <td>1.000000</td>\n",
       "    </tr>\n",
       "    <tr>\n",
       "      <th>30</th>\n",
       "      <td>1</td>\n",
       "      <td>5</td>\n",
       "      <td>det</td>\n",
       "      <td>Pipeline</td>\n",
       "      <td>1.000000</td>\n",
       "      <td>0.333333</td>\n",
       "    </tr>\n",
       "    <tr>\n",
       "      <th>31</th>\n",
       "      <td>1</td>\n",
       "      <td>5</td>\n",
       "      <td>prob</td>\n",
       "      <td>Pipeline</td>\n",
       "      <td>1.000000</td>\n",
       "      <td>0.333333</td>\n",
       "    </tr>\n",
       "    <tr>\n",
       "      <th>32</th>\n",
       "      <td>1</td>\n",
       "      <td>5</td>\n",
       "      <td>det-prob</td>\n",
       "      <td>Pipeline</td>\n",
       "      <td>0.000000</td>\n",
       "      <td>1.000000</td>\n",
       "    </tr>\n",
       "    <tr>\n",
       "      <th>33</th>\n",
       "      <td>1</td>\n",
       "      <td>5</td>\n",
       "      <td>det</td>\n",
       "      <td>Pipeline</td>\n",
       "      <td>1.000000</td>\n",
       "      <td>0.333333</td>\n",
       "    </tr>\n",
       "    <tr>\n",
       "      <th>34</th>\n",
       "      <td>1</td>\n",
       "      <td>5</td>\n",
       "      <td>prob</td>\n",
       "      <td>Pipeline</td>\n",
       "      <td>1.000000</td>\n",
       "      <td>0.333333</td>\n",
       "    </tr>\n",
       "    <tr>\n",
       "      <th>35</th>\n",
       "      <td>1</td>\n",
       "      <td>5</td>\n",
       "      <td>det-prob</td>\n",
       "      <td>Pipeline</td>\n",
       "      <td>0.000000</td>\n",
       "      <td>1.000000</td>\n",
       "    </tr>\n",
       "    <tr>\n",
       "      <th>36</th>\n",
       "      <td>1</td>\n",
       "      <td>1</td>\n",
       "      <td>det</td>\n",
       "      <td>Inputs</td>\n",
       "      <td>0.771228</td>\n",
       "      <td>0.333333</td>\n",
       "    </tr>\n",
       "    <tr>\n",
       "      <th>37</th>\n",
       "      <td>1</td>\n",
       "      <td>1</td>\n",
       "      <td>prob</td>\n",
       "      <td>Inputs</td>\n",
       "      <td>0.746777</td>\n",
       "      <td>0.333333</td>\n",
       "    </tr>\n",
       "    <tr>\n",
       "      <th>38</th>\n",
       "      <td>1</td>\n",
       "      <td>1</td>\n",
       "      <td>det-prob</td>\n",
       "      <td>Inputs</td>\n",
       "      <td>0.024451</td>\n",
       "      <td>0.333333</td>\n",
       "    </tr>\n",
       "    <tr>\n",
       "      <th>39</th>\n",
       "      <td>1</td>\n",
       "      <td>2</td>\n",
       "      <td>det</td>\n",
       "      <td>Inputs</td>\n",
       "      <td>0.641250</td>\n",
       "      <td>0.333333</td>\n",
       "    </tr>\n",
       "    <tr>\n",
       "      <th>40</th>\n",
       "      <td>1</td>\n",
       "      <td>2</td>\n",
       "      <td>prob</td>\n",
       "      <td>Inputs</td>\n",
       "      <td>0.647917</td>\n",
       "      <td>0.333333</td>\n",
       "    </tr>\n",
       "    <tr>\n",
       "      <th>41</th>\n",
       "      <td>1</td>\n",
       "      <td>2</td>\n",
       "      <td>det-prob</td>\n",
       "      <td>Inputs</td>\n",
       "      <td>-0.006667</td>\n",
       "      <td>1.000000</td>\n",
       "    </tr>\n",
       "    <tr>\n",
       "      <th>42</th>\n",
       "      <td>1</td>\n",
       "      <td>1</td>\n",
       "      <td>det</td>\n",
       "      <td>Inputs</td>\n",
       "      <td>0.763201</td>\n",
       "      <td>0.333333</td>\n",
       "    </tr>\n",
       "    <tr>\n",
       "      <th>43</th>\n",
       "      <td>1</td>\n",
       "      <td>1</td>\n",
       "      <td>prob</td>\n",
       "      <td>Inputs</td>\n",
       "      <td>0.746959</td>\n",
       "      <td>0.333333</td>\n",
       "    </tr>\n",
       "    <tr>\n",
       "      <th>44</th>\n",
       "      <td>1</td>\n",
       "      <td>1</td>\n",
       "      <td>det-prob</td>\n",
       "      <td>Inputs</td>\n",
       "      <td>0.016242</td>\n",
       "      <td>0.333333</td>\n",
       "    </tr>\n",
       "    <tr>\n",
       "      <th>45</th>\n",
       "      <td>1</td>\n",
       "      <td>2</td>\n",
       "      <td>det</td>\n",
       "      <td>Inputs</td>\n",
       "      <td>0.640417</td>\n",
       "      <td>0.333333</td>\n",
       "    </tr>\n",
       "    <tr>\n",
       "      <th>46</th>\n",
       "      <td>1</td>\n",
       "      <td>2</td>\n",
       "      <td>prob</td>\n",
       "      <td>Inputs</td>\n",
       "      <td>0.642083</td>\n",
       "      <td>0.333333</td>\n",
       "    </tr>\n",
       "    <tr>\n",
       "      <th>47</th>\n",
       "      <td>1</td>\n",
       "      <td>2</td>\n",
       "      <td>det-prob</td>\n",
       "      <td>Inputs</td>\n",
       "      <td>-0.001667</td>\n",
       "      <td>1.000000</td>\n",
       "    </tr>\n",
       "    <tr>\n",
       "      <th>48</th>\n",
       "      <td>1</td>\n",
       "      <td>3</td>\n",
       "      <td>det</td>\n",
       "      <td>Inputs</td>\n",
       "      <td>0.907531</td>\n",
       "      <td>0.333333</td>\n",
       "    </tr>\n",
       "    <tr>\n",
       "      <th>49</th>\n",
       "      <td>1</td>\n",
       "      <td>3</td>\n",
       "      <td>prob</td>\n",
       "      <td>Inputs</td>\n",
       "      <td>0.882649</td>\n",
       "      <td>0.333333</td>\n",
       "    </tr>\n",
       "  </tbody>\n",
       "</table>\n",
       "</div>"
      ],
      "text/plain": [
       "    hypothesis  test  pipeline instrumentation   discrim   p-value\n",
       "0            1     1       det        Pipeline  0.815858  0.333333\n",
       "1            1     1      prob        Pipeline  0.819644  0.333333\n",
       "2            1     1  det-prob        Pipeline -0.003786  1.000000\n",
       "3            1     2       det        Pipeline  0.640000  0.333333\n",
       "4            1     2      prob        Pipeline  0.647917  0.333333\n",
       "5            1     2  det-prob        Pipeline -0.007917  1.000000\n",
       "6            1     1       det        Pipeline  0.815789  0.333333\n",
       "7            1     1      prob        Pipeline  0.816677  0.333333\n",
       "8            1     1  det-prob        Pipeline -0.000889  1.000000\n",
       "9            1     2       det        Pipeline  0.640833  0.333333\n",
       "10           1     2      prob        Pipeline  0.642083  0.333333\n",
       "11           1     2  det-prob        Pipeline -0.001250  1.000000\n",
       "12           1     3       det        Pipeline  1.000000  0.333333\n",
       "13           1     3      prob        Pipeline  1.000000  0.333333\n",
       "14           1     3  det-prob        Pipeline  0.000000  1.000000\n",
       "15           1     4       det        Pipeline  1.000000  0.333333\n",
       "16           1     4      prob        Pipeline  1.000000  0.333333\n",
       "17           1     4  det-prob        Pipeline  0.000000  1.000000\n",
       "18           1     5       det        Pipeline  1.000000  0.333333\n",
       "19           1     5      prob        Pipeline  1.000000  0.333333\n",
       "20           1     5  det-prob        Pipeline  0.000000  1.000000\n",
       "21           1     5       det        Pipeline  1.000000  0.333333\n",
       "22           1     5      prob        Pipeline  1.000000  0.333333\n",
       "23           1     5  det-prob        Pipeline  0.000000  1.000000\n",
       "24           1     3       det        Pipeline  1.000000  0.333333\n",
       "25           1     3      prob        Pipeline  1.000000  0.333333\n",
       "26           1     3  det-prob        Pipeline  0.000000  1.000000\n",
       "27           1     4       det        Pipeline  1.000000  0.333333\n",
       "28           1     4      prob        Pipeline  1.000000  0.333333\n",
       "29           1     4  det-prob        Pipeline  0.000000  1.000000\n",
       "30           1     5       det        Pipeline  1.000000  0.333333\n",
       "31           1     5      prob        Pipeline  1.000000  0.333333\n",
       "32           1     5  det-prob        Pipeline  0.000000  1.000000\n",
       "33           1     5       det        Pipeline  1.000000  0.333333\n",
       "34           1     5      prob        Pipeline  1.000000  0.333333\n",
       "35           1     5  det-prob        Pipeline  0.000000  1.000000\n",
       "36           1     1       det          Inputs  0.771228  0.333333\n",
       "37           1     1      prob          Inputs  0.746777  0.333333\n",
       "38           1     1  det-prob          Inputs  0.024451  0.333333\n",
       "39           1     2       det          Inputs  0.641250  0.333333\n",
       "40           1     2      prob          Inputs  0.647917  0.333333\n",
       "41           1     2  det-prob          Inputs -0.006667  1.000000\n",
       "42           1     1       det          Inputs  0.763201  0.333333\n",
       "43           1     1      prob          Inputs  0.746959  0.333333\n",
       "44           1     1  det-prob          Inputs  0.016242  0.333333\n",
       "45           1     2       det          Inputs  0.640417  0.333333\n",
       "46           1     2      prob          Inputs  0.642083  0.333333\n",
       "47           1     2  det-prob          Inputs -0.001667  1.000000\n",
       "48           1     3       det          Inputs  0.907531  0.333333\n",
       "49           1     3      prob          Inputs  0.882649  0.333333"
      ]
     },
     "execution_count": 67,
     "metadata": {},
     "output_type": "execute_result"
    }
   ],
   "source": [
    "pd.DataFrame.from_dict(stat_list)[0:50]"
   ]
  },
  {
   "cell_type": "code",
   "execution_count": null,
   "metadata": {},
   "outputs": [],
   "source": []
  },
  {
   "cell_type": "code",
   "execution_count": null,
   "metadata": {},
   "outputs": [],
   "source": []
  }
 ],
 "metadata": {
  "kernelspec": {
   "display_name": "Python 3.7.3 64-bit ('stability': virtualenv)",
   "language": "python",
   "name": "python37364bitstabilityvirtualenv84ac84352db94279bfc9e852927393a9"
  },
  "language_info": {
   "codemirror_mode": {
    "name": "ipython",
    "version": 3
   },
   "file_extension": ".py",
   "mimetype": "text/x-python",
   "name": "python",
   "nbconvert_exporter": "python",
   "pygments_lexer": "ipython3",
   "version": "3.7.3"
  }
 },
 "nbformat": 4,
 "nbformat_minor": 4
}
