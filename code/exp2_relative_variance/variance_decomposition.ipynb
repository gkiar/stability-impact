{
 "cells": [
  {
   "cell_type": "code",
   "execution_count": 66,
   "metadata": {},
   "outputs": [],
   "source": [
    "import pandas as pd\n",
    "import numpy as np\n",
    "import os.path as op\n",
    "import os\n",
    "from scipy.optimize import minimize\n",
    "from scipy.spatial.distance import cdist\n",
    "import itertools\n",
    "\n",
    "from varmodel_utils import objective, get_full_variance_indices,\\\n",
    "                           get_sub_variance_indices, prune"
   ]
  },
  {
   "cell_type": "code",
   "execution_count": 3,
   "metadata": {},
   "outputs": [],
   "source": [
    "bp = '/data/RocklandSample/derivatives/paper1/'\n",
    "exp = 'figures'\n",
    "bpp = op.join(bp, exp)\n",
    "try:\n",
    "    os.makedirs(bpp)\n",
    "except FileExistsError:\n",
    "    pass\n",
    "\n",
    "df_pyonly = pd.read_hdf(bp + 'connectomes_mp_pyonly.h5')\n",
    "df_pyonly['Instrumentation'] = \"Data\"\n",
    "\n",
    "df = pd.read_hdf(bp + 'connectomes_mp.h5')\n",
    "df['Instrumentation'] = \"Pipeline\""
   ]
  },
  {
   "cell_type": "code",
   "execution_count": 4,
   "metadata": {},
   "outputs": [],
   "source": [
    "df = pd.concat([df, df_pyonly], axis=0, ignore_index=True)"
   ]
  },
  {
   "cell_type": "code",
   "execution_count": 5,
   "metadata": {},
   "outputs": [],
   "source": [
    "cols = [\"subject\", \"session\", \"directions\", \"pipeline\"]\n",
    "\n",
    "### Reference graphs\n",
    "df_ref = prune(df, Instrumentation='Pipeline', simulation=\"ref\")\n",
    "df_ref = df_ref.reset_index(drop=True).reset_index(level=0).set_index(cols)\n",
    "\n",
    "### Simulation setting graphs\n",
    "df_pip = prune(df, Instrumentation='Pipeline')\n",
    "df_pip = df_pip.reset_index(drop=True).reset_index(level=0).set_index(cols)\n",
    "\n",
    "df_dat = prune(df, Instrumentation='Data')\n",
    "df_dat = df_dat.reset_index(drop=True).reset_index(level=0).set_index(cols)"
   ]
  },
  {
   "cell_type": "code",
   "execution_count": 72,
   "metadata": {},
   "outputs": [
    {
     "data": {
      "text/plain": [
       "(4200, 6889)"
      ]
     },
     "execution_count": 72,
     "metadata": {},
     "output_type": "execute_result"
    }
   ],
   "source": [
    "# df_touse = df_ref\n",
    "# mca_touse = False\n",
    "# fn = lambda x: np.cov(x, ddof=1)\n",
    "\n",
    "df_touse = df_dat\n",
    "mca_touse = True\n",
    "fn = lambda x: cdist(x, x, metric='euclidean')\n",
    "\n",
    "gs = np.array([np.reshape(g, -1) for g in df_touse.graph.values])\n",
    "gs.shape"
   ]
  },
  {
   "cell_type": "code",
   "execution_count": 60,
   "metadata": {},
   "outputs": [
    {
     "data": {
      "text/plain": [
       "(168, 6889)"
      ]
     },
     "execution_count": 60,
     "metadata": {},
     "output_type": "execute_result"
    }
   ],
   "source": [
    "tmpgs.shape"
   ]
  },
  {
   "cell_type": "code",
   "execution_count": 74,
   "metadata": {},
   "outputs": [
    {
     "data": {
      "text/plain": [
       "(168, 168)"
      ]
     },
     "execution_count": 74,
     "metadata": {},
     "output_type": "execute_result"
    }
   ],
   "source": [
    "fn(tmpgs).shape"
   ]
  },
  {
   "cell_type": "code",
   "execution_count": null,
   "metadata": {},
   "outputs": [],
   "source": []
  },
  {
   "cell_type": "code",
   "execution_count": 76,
   "metadata": {},
   "outputs": [
    {
     "name": "stderr",
     "output_type": "stream",
     "text": [
      "/Users/greg/code/env/stability/lib/python3.7/site-packages/ipykernel_launcher.py:6: SettingWithCopyWarning: \n",
      "A value is trying to be set on a copy of a slice from a DataFrame.\n",
      "Try using .loc[row_indexer,col_indexer] = value instead\n",
      "\n",
      "See the caveats in the documentation: https://pandas.pydata.org/pandas-docs/stable/user_guide/indexing.html#returning-a-view-versus-a-copy\n",
      "  \n"
     ]
    },
    {
     "name": "stdout",
     "output_type": "stream",
     "text": [
      "['xses', 'xdir', 'xpipe', 'xmca']\n",
      "[ 3.85356260e+01 -1.31177120e-12  1.25930036e-12  6.43544955e+03]\n"
     ]
    }
   ],
   "source": [
    "a = 4 if mca_touse else 3\n",
    "\n",
    "ests = np.empty((a,1))\n",
    "for idx, sub in enumerate(df_touse.index.levels[0]):\n",
    "    tmpdf = df_touse.loc[sub]\n",
    "    tmpdf['index'] = range(0, len(tmpdf))\n",
    "    tmpin = get_sub_variance_indices(tmpdf, mca=mca_touse)\n",
    "    tmpgs = np.array([np.reshape(g, -1) for g in tmpdf.graph.values])\n",
    "\n",
    "    tmpcov = fn(tmpgs)\n",
    "\n",
    "    estimate = np.array([np.mean(tmpcov[v]) for k, v in tmpin.items()],)\n",
    "#     estimate = np.linalg.solve(np.tril(np.ones((a,a))), estimate)\n",
    "    estimate = np.linalg.solve(np.triu(np.ones((a,a))), estimate)\n",
    "    estimate = np.reshape(estimate, (a, 1))\n",
    "    ests = np.append(ests, estimate, axis=1)\n",
    "\n",
    "splits = list(tmpin.keys())\n",
    "print(splits)\n",
    "print(np.mean(ests, axis=1))"
   ]
  },
  {
   "cell_type": "code",
   "execution_count": 52,
   "metadata": {},
   "outputs": [
    {
     "data": {
      "text/plain": [
       "['session', 'directions', 'pipeline']"
      ]
     },
     "execution_count": 52,
     "metadata": {},
     "output_type": "execute_result"
    }
   ],
   "source": [
    "splits"
   ]
  },
  {
   "cell_type": "code",
   "execution_count": 75,
   "metadata": {},
   "outputs": [
    {
     "data": {
      "text/plain": [
       "[17635800, 701400, 348600, 172200, 84000]"
      ]
     },
     "execution_count": 75,
     "metadata": {},
     "output_type": "execute_result"
    }
   ],
   "source": [
    "ind = get_full_variance_indices(df_touse, mca=mca_touse)\n",
    "\n",
    "# cov = np.cov(gs, ddof=1)\n",
    "cov = fn(gs)\n",
    "\n",
    "[len(v[0]) for k, v in ind.items()]"
   ]
  },
  {
   "cell_type": "code",
   "execution_count": 48,
   "metadata": {},
   "outputs": [
    {
     "name": "stdout",
     "output_type": "stream",
     "text": [
      "[ 7.75283250e+03  2.11231794e+01  9.09494702e-13 -9.09494702e-13]\n"
     ]
    }
   ],
   "source": [
    "estimate = np.array([np.mean(cov[v]) for k, v in ind.items()])\n",
    "\n",
    "a = 5 if mca_touse else 4\n",
    "estimate = np.linalg.solve(np.tril(np.ones((a,a))), estimate)\n",
    "\n",
    "print(estimate)"
   ]
  },
  {
   "cell_type": "code",
   "execution_count": 35,
   "metadata": {},
   "outputs": [
    {
     "name": "stdout",
     "output_type": "stream",
     "text": [
      "      fun: 3001.5789222069243\n",
      " hess_inv: <4x4 LbfgsInvHessProduct with dtype=float64>\n",
      "      jac: array([0.01214175, 0.        , 0.        , 0.        ])\n",
      "  message: b'CONVERGENCE: NORM_OF_PROJECTED_GRADIENT_<=_PGTOL'\n",
      "     nfev: 55\n",
      "      nit: 10\n",
      "   status: 0\n",
      "  success: True\n",
      "        x: array([   0.        , 2423.07039899, 2386.25287929, 2386.25287929])\n"
     ]
    }
   ],
   "source": [
    "bnds = [(0, None)] * len(estimate)\n",
    "result = minimize(objective, estimate, (cov, ind), method='L-BFGS-B', options={\"disp\": True}, bounds=bnds)\n",
    "print(result)"
   ]
  },
  {
   "cell_type": "code",
   "execution_count": null,
   "metadata": {},
   "outputs": [],
   "source": []
  }
 ],
 "metadata": {
  "kernelspec": {
   "display_name": "Python 3.7.3 64-bit ('stability': virtualenv)",
   "language": "python",
   "name": "python37364bitstabilityvirtualenv84ac84352db94279bfc9e852927393a9"
  },
  "language_info": {
   "codemirror_mode": {
    "name": "ipython",
    "version": 3
   },
   "file_extension": ".py",
   "mimetype": "text/x-python",
   "name": "python",
   "nbconvert_exporter": "python",
   "pygments_lexer": "ipython3",
   "version": "3.7.3"
  }
 },
 "nbformat": 4,
 "nbformat_minor": 4
}
