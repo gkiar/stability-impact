{
 "cells": [
  {
   "cell_type": "code",
   "execution_count": 1,
   "metadata": {},
   "outputs": [],
   "source": [
    "import pandas as pd\n",
    "import numpy as np\n",
    "import os.path as op\n",
    "import os\n",
    "from scipy.optimize import minimize\n",
    "import itertools\n",
    "\n",
    "from varmodel_utils import objective, get_variance_indices"
   ]
  },
  {
   "cell_type": "code",
   "execution_count": 2,
   "metadata": {},
   "outputs": [],
   "source": [
    "bp = '/data/RocklandSample/derivatives/paper1/'\n",
    "exp = 'connectomes_ds_multipipeline'\n",
    "bpp = op.join(bp, exp)\n",
    "try:\n",
    "    os.makedirs(bpp)\n",
    "except FileExistsError:\n",
    "    pass\n",
    "\n",
    "# Load DF and grab graphs\n",
    "df = pd.read_hdf(bpp + '.h5')\n",
    "gs = np.array([np.reshape(g, -1) for g in df.graph.values])\n",
    "\n",
    "# Prune DF to only contain reference, grab graphs\n",
    "df_ref = df[df['simulation'] == \"ref\"].reset_index(drop=True)\n",
    "gs_ref = np.array([np.reshape(g, -1) for g in df_ref.graph.values])\n",
    "\n",
    "# Reorganize DFs with heirarchical indexing\n",
    "cols = [\"subject\", \"session\", \"directions\", \"pipeline\"]\n",
    "df = df.reset_index(level=0).set_index(cols)\n",
    "df_ref = df_ref.reset_index(level=0).set_index(cols)"
   ]
  },
  {
   "cell_type": "code",
   "execution_count": 3,
   "metadata": {},
   "outputs": [],
   "source": [
    "df_touse = df_ref\n",
    "gs_touse = gs_ref"
   ]
  },
  {
   "cell_type": "code",
   "execution_count": 4,
   "metadata": {},
   "outputs": [
    {
     "name": "stderr",
     "output_type": "stream",
     "text": [
      "/Users/greg/code/gkiar/stability/code/experiments/paper1_analytical_impact/3_analysis/code/exp2_relative_variance/varmodel_utils.py:35: PerformanceWarning: indexing past lexsort depth may impact performance.\n",
      "  indices = df.loc[query][\"index\"]\n"
     ]
    },
    {
     "data": {
      "text/plain": [
       "(199, 199)"
      ]
     },
     "execution_count": 4,
     "metadata": {},
     "output_type": "execute_result"
    }
   ],
   "source": [
    "ind = get_variance_indices(df_touse, mca=False)\n",
    "\n",
    "cov = np.cov(gs_touse, ddof=1)\n",
    "cov.shape"
   ]
  },
  {
   "cell_type": "code",
   "execution_count": 5,
   "metadata": {},
   "outputs": [
    {
     "data": {
      "text/plain": [
       "[39402, 1386, 594, 199]"
      ]
     },
     "execution_count": 5,
     "metadata": {},
     "output_type": "execute_result"
    }
   ],
   "source": [
    "[len(v[0]) for k, v in ind.items()]"
   ]
  },
  {
   "cell_type": "code",
   "execution_count": 6,
   "metadata": {},
   "outputs": [
    {
     "name": "stdout",
     "output_type": "stream",
     "text": [
      "[ 6.53875161e+03  1.57669033e+01  4.71602677e+00 -2.54114087e+00]\n"
     ]
    }
   ],
   "source": [
    "estimate = np.array([np.mean(cov[v]) for k, v in ind.items()])\n",
    "\n",
    "estimate = np.linalg.solve(np.array(((1,0,0,0),\n",
    "                                     (1,1,0,0),\n",
    "                                     (1,1,1,0),\n",
    "                                     (1,1,1,1))), estimate)\n",
    "print(estimate)"
   ]
  },
  {
   "cell_type": "code",
   "execution_count": 7,
   "metadata": {},
   "outputs": [
    {
     "name": "stdout",
     "output_type": "stream",
     "text": [
      "      fun: 2635.2734297327825\n",
      " hess_inv: <4x4 LbfgsInvHessProduct with dtype=float64>\n",
      "      jac: array([0.00677574, 0.        , 0.        , 0.        ])\n",
      "  message: b'CONVERGENCE: NORM_OF_PROJECTED_GRADIENT_<=_PGTOL'\n",
      "     nfev: 90\n",
      "      nit: 12\n",
      "   status: 0\n",
      "  success: True\n",
      "        x: array([   0.        , 2194.58947273, 2183.53859614, 2178.57383281])\n"
     ]
    }
   ],
   "source": [
    "bnds = [(0, None)] * len(estimate)\n",
    "result = minimize(objective, estimate, (cov, ind), method='L-BFGS-B', options={\"disp\": True}, bounds=bnds)\n",
    "print(result)"
   ]
  },
  {
   "cell_type": "code",
   "execution_count": null,
   "metadata": {},
   "outputs": [],
   "source": []
  }
 ],
 "metadata": {
  "kernelspec": {
   "display_name": "Python 3.7.3 64-bit ('stability': virtualenv)",
   "language": "python",
   "name": "python37364bitstabilityvirtualenv84ac84352db94279bfc9e852927393a9"
  },
  "language_info": {
   "codemirror_mode": {
    "name": "ipython",
    "version": 3
   },
   "file_extension": ".py",
   "mimetype": "text/x-python",
   "name": "python",
   "nbconvert_exporter": "python",
   "pygments_lexer": "ipython3",
   "version": "3.7.3"
  }
 },
 "nbformat": 4,
 "nbformat_minor": 4
}
