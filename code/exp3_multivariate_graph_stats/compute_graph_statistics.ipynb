{
 "cells": [
  {
   "cell_type": "code",
   "execution_count": 19,
   "metadata": {},
   "outputs": [],
   "source": [
    "import pandas as pd\n",
    "import numpy as np\n",
    "import os.path as op\n",
    "from scipy.stats import zscore, ks_2samp\n",
    "import os\n",
    "import itertools\n",
    "\n",
    "import plotly.offline as off\n",
    "import plotly.figure_factory as ff\n",
    "import plotly.graph_objects as go\n",
    "import plotly.express as px\n",
    "from plotly.subplots import make_subplots\n",
    "from plotly.offline import init_notebook_mode, iplot"
   ]
  },
  {
   "cell_type": "code",
   "execution_count": 2,
   "metadata": {},
   "outputs": [],
   "source": [
    "bp = '/data/RocklandSample/derivatives/paper1/'\n",
    "exp = 'connectomes_agebmi'\n",
    "bpp = op.join(bp, exp)\n",
    "try:\n",
    "    os.makedirs(bpp)\n",
    "except FileExistsError:\n",
    "    pass\n",
    "\n",
    "# Load DF and grab graphs\n",
    "df = pd.read_hdf(bpp + '.h5')\n",
    "df.drop(columns=[\"session\", \"directions\", \"seed\"], inplace=True)\n",
    "df = df.reset_index(level=0)\n",
    "\n",
    "# Load stats DF and grab graphs\n",
    "df_s = pd.read_hdf(bpp + '_stats.h5')\n",
    "\n",
    "df = df.merge(df_s, how='outer', on='index', validate='1:1')\n",
    "\n",
    "# Reorganize DFs with heirarchical indexing\n",
    "cols = [\"subject\", \"pipeline\"]\n",
    "df = df.set_index(cols)"
   ]
  },
  {
   "cell_type": "code",
   "execution_count": 21,
   "metadata": {},
   "outputs": [
    {
     "name": "stderr",
     "output_type": "stream",
     "text": [
      "/Users/greg/code/env/stability/lib/python3.7/site-packages/pandas/core/generic.py:2505: PerformanceWarning:\n",
      "\n",
      "\n",
      "your performance may suffer as PyTables will pickle object types that it cannot\n",
      "map directly to c-types [inferred_type->mixed,key->block2_values] [items->Index(['simulation', 'graph', 'degree', 'weight', 'ccoeff', 'betweenness',\n",
      "       'plength'],\n",
      "      dtype='object')]\n",
      "\n",
      "\n"
     ]
    }
   ],
   "source": [
    "df.to_hdf('/data/RocklandSample/derivatives/paper1/connectomes_agebmi_fullwstats.h5', 'graphs')"
   ]
  },
  {
   "cell_type": "code",
   "execution_count": 3,
   "metadata": {},
   "outputs": [],
   "source": [
    "uniq_ids = list(set(df.index))"
   ]
  },
  {
   "cell_type": "code",
   "execution_count": 4,
   "metadata": {},
   "outputs": [],
   "source": [
    "uni_stats = ['modularity', 'assort', 'avplength', 'edgecount', 'globaleffic']\n",
    "multi_stats = ['degree', 'weight', 'ccoeff', 'betweenness', 'plength']"
   ]
  },
  {
   "cell_type": "markdown",
   "metadata": {},
   "source": [
    "### Univariate"
   ]
  },
  {
   "cell_type": "code",
   "execution_count": 5,
   "metadata": {},
   "outputs": [],
   "source": [
    "z_crit = 1.645  # p = 0.05"
   ]
  },
  {
   "cell_type": "code",
   "execution_count": 16,
   "metadata": {},
   "outputs": [],
   "source": [
    "# Do sig dig as well\n",
    "# Do variances as well"
   ]
  },
  {
   "cell_type": "code",
   "execution_count": 6,
   "metadata": {},
   "outputs": [
    {
     "name": "stderr",
     "output_type": "stream",
     "text": [
      "/Users/greg/code/env/stability/lib/python3.7/site-packages/ipykernel_launcher.py:6: PerformanceWarning: indexing past lexsort depth may impact performance.\n",
      "  \n",
      "/Users/greg/code/env/stability/lib/python3.7/site-packages/scipy/stats/stats.py:2419: RuntimeWarning: invalid value encountered in true_divide\n",
      "  return (a - mns) / sstd\n"
     ]
    }
   ],
   "source": [
    "ids = uniq_ids\n",
    "zscore_dict = {}\n",
    "for unistat in uni_stats:\n",
    "    zstat = []\n",
    "    for idd in ids:\n",
    "        tdat = df.loc[idd][unistat].values\n",
    "        z = np.nan_to_num(zscore(tdat, ddof=0))\n",
    "        zstat += [z]\n",
    "\n",
    "    zscore_dict[unistat] = zstat"
   ]
  },
  {
   "cell_type": "code",
   "execution_count": 15,
   "metadata": {},
   "outputs": [
    {
     "name": "stdout",
     "output_type": "stream",
     "text": [
      "Percent of MCA sims resulting in significant (p < 0.05) difference:\n",
      "modularity:  \t10.005 %\n",
      "assort:  \t1.780 %\n",
      "avplength:  \t1.708 %\n",
      "edgecount:  \t1.852 %\n",
      "globaleffic:  \t1.732 %\n"
     ]
    }
   ],
   "source": [
    "print(\"Percent of MCA sims resulting in significant (p < 0.05) difference:\")\n",
    "for key in zscore_dict:\n",
    "    print(key, end=':  \\t')\n",
    "    tmp = np.reshape(np.stack(zscore_dict[key]), (-1))\n",
    "    perc_sig = np.sum((np.abs(tmp) > z_crit).astype(int))/len(tmp)*100\n",
    "    print(\"%02.3f %%\" % perc_sig)"
   ]
  },
  {
   "cell_type": "code",
   "execution_count": null,
   "metadata": {},
   "outputs": [],
   "source": []
  },
  {
   "cell_type": "code",
   "execution_count": null,
   "metadata": {},
   "outputs": [],
   "source": [
    "# fig1b = px.box(df_corrs, x=cols[2], y=cols[0], color=cols[1],\n",
    "#                points=\"all\", orientation='h',\n",
    "#                color_discrete_sequence=px.colors.qualitative.Bold)\n",
    "# fig1b.update_layout(showlegend=False,\n",
    "#                     title=\"Structural Deviations\",\n",
    "#                     title_x=0.5, title_y=0.95, title_font=dict(size=18),\n",
    "#                     yaxis=dict(tickangle=270, tickfont=dict(size=18), title=\"\"),\n",
    "#                     xaxis=dict(tickangle=0, titlefont=dict(size=18), tickvals=[0, 0.5, 1], tickfont=dict(size=16)),\n",
    "#                     height=500, width=900)\n",
    "# fig1b.show()"
   ]
  },
  {
   "cell_type": "markdown",
   "metadata": {},
   "source": [
    "### Multivariate"
   ]
  },
  {
   "cell_type": "code",
   "execution_count": 8,
   "metadata": {},
   "outputs": [
    {
     "name": "stderr",
     "output_type": "stream",
     "text": [
      "/Users/greg/code/env/stability/lib/python3.7/site-packages/ipykernel_launcher.py:8: PerformanceWarning: indexing past lexsort depth may impact performance.\n",
      "  \n"
     ]
    }
   ],
   "source": [
    "ids = uniq_ids\n",
    "ksscore_dict = {}\n",
    "ksp_dict = {}\n",
    "for multistat in multi_stats:\n",
    "    ksstat = []\n",
    "    ksp = []\n",
    "    for idd in ids:\n",
    "        tdat = df.loc[idd][multistat].values\n",
    "        tmp_ks = []\n",
    "        tmp_p = []\n",
    "        for i, j in itertools.combinations(range(len(tdat)), 2):\n",
    "            tmp = ks_2samp(tdat[i], tdat[j])\n",
    "            tmp_ks += [tmp[0]]\n",
    "            tmp_p += [tmp[1]]\n",
    "\n",
    "        ksstat += [np.mean(tmp_ks)]\n",
    "        ksp += [np.mean(tmp_p)]\n",
    "    ksscore_dict[multistat] = ksstat\n",
    "    ksp_dict[multistat] = ksp"
   ]
  },
  {
   "cell_type": "code",
   "execution_count": 10,
   "metadata": {},
   "outputs": [
    {
     "name": "stdout",
     "output_type": "stream",
     "text": [
      "Percent of MCA sims resulting in significant (p < 0.05) difference:\n",
      "degree:  \t0.000\n",
      "weight:  \t0.000\n",
      "ccoeff:  \t0.000\n",
      "betweenness:  \t0.000\n",
      "plength:  \t0.000\n"
     ]
    }
   ],
   "source": [
    "print(\"Percent of MCA sims resulting in significant (p < 0.05) difference:\")\n",
    "for key in ksp_dict:\n",
    "    print(key, end=':  \\t')\n",
    "    tmp = np.reshape(np.stack(ksp_dict[key]), (-1))\n",
    "    perc_sig = np.sum((np.abs(tmp) < 0.05).astype(int))/len(tmp)*100\n",
    "    print(\"%02.3f\" % perc_sig)"
   ]
  }
 ],
 "metadata": {
  "kernelspec": {
   "display_name": "Python 3.7.3 64-bit ('stability': virtualenv)",
   "language": "python",
   "name": "python37364bitstabilityvirtualenv84ac84352db94279bfc9e852927393a9"
  },
  "language_info": {
   "codemirror_mode": {
    "name": "ipython",
    "version": 3
   },
   "file_extension": ".py",
   "mimetype": "text/x-python",
   "name": "python",
   "nbconvert_exporter": "python",
   "pygments_lexer": "ipython3",
   "version": "3.7.3"
  }
 },
 "nbformat": 4,
 "nbformat_minor": 4
}
