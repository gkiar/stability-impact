{
 "cells": [
  {
   "cell_type": "code",
   "execution_count": 1,
   "metadata": {},
   "outputs": [],
   "source": [
    "import pandas as pd\n",
    "import numpy as np\n",
    "import os.path as op\n",
    "from scipy.stats import zscore, ks_2samp\n",
    "import os\n",
    "import itertools\n",
    "\n",
    "import matplotlib.pyplot as plt\n",
    "\n",
    "%matplotlib inline\n",
    "\n",
    "# from varmodel_utils import objective, get_variance_indices"
   ]
  },
  {
   "cell_type": "code",
   "execution_count": 2,
   "metadata": {},
   "outputs": [],
   "source": [
    "bp = '/data/RocklandSample/derivatives/paper1/'\n",
    "exp = 'connectomes_agebmi'\n",
    "bpp = op.join(bp, exp)\n",
    "try:\n",
    "    os.makedirs(bpp)\n",
    "except FileExistsError:\n",
    "    pass\n",
    "\n",
    "# Load DF and grab graphs\n",
    "df = pd.read_hdf(bpp + '.h5')\n",
    "df.drop(columns=[\"session\", \"directions\", \"seed\"], inplace=True)\n",
    "df = df.reset_index(level=0)\n",
    "\n",
    "# Load stats DF and grab graphs\n",
    "df_s = pd.read_hdf(bpp + '_stats.h5')\n",
    "\n",
    "df = df.merge(df_s, how='outer', on='index', validate='1:1')\n",
    "\n",
    "# Reorganize DFs with heirarchical indexing\n",
    "cols = [\"subject\", \"pipeline\"]\n",
    "df = df.set_index(cols)"
   ]
  },
  {
   "cell_type": "code",
   "execution_count": 3,
   "metadata": {},
   "outputs": [],
   "source": [
    "uniq_ids = list(set(df.index))"
   ]
  },
  {
   "cell_type": "code",
   "execution_count": 4,
   "metadata": {},
   "outputs": [],
   "source": [
    "uni_stats = ['modularity', 'assort', 'avplength', 'edgecount', 'globaleffic']\n",
    "multi_stats = ['degree', 'weight', 'ccoeff', 'betweenness', 'plength']"
   ]
  },
  {
   "cell_type": "markdown",
   "metadata": {},
   "source": [
    "### Univariate"
   ]
  },
  {
   "cell_type": "code",
   "execution_count": 5,
   "metadata": {},
   "outputs": [],
   "source": [
    "z_crit = 1.645"
   ]
  },
  {
   "cell_type": "code",
   "execution_count": 6,
   "metadata": {},
   "outputs": [
    {
     "name": "stderr",
     "output_type": "stream",
     "text": [
      "/Users/greg/code/env/stability/lib/python3.7/site-packages/ipykernel_launcher.py:6: PerformanceWarning: indexing past lexsort depth may impact performance.\n",
      "  \n",
      "/Users/greg/code/env/stability/lib/python3.7/site-packages/scipy/stats/stats.py:2419: RuntimeWarning: invalid value encountered in true_divide\n",
      "  return (a - mns) / sstd\n"
     ]
    }
   ],
   "source": [
    "ids = uniq_ids\n",
    "zscore_dict = {}\n",
    "for unistat in uni_stats:\n",
    "    zstat = []\n",
    "    for idd in ids:\n",
    "        tdat = df.loc[idd][unistat].values\n",
    "        z = np.nan_to_num(zscore(tdat, ddof=0))\n",
    "        zstat += [z]\n",
    "\n",
    "    zscore_dict[unistat] = zstat"
   ]
  },
  {
   "cell_type": "code",
   "execution_count": 9,
   "metadata": {},
   "outputs": [
    {
     "name": "stdout",
     "output_type": "stream",
     "text": [
      "Percent of MCA sims resulting in significant (p < 0.05) difference:\n",
      "modularity:  \t10.005\n",
      "assort:  \t1.780\n",
      "avplength:  \t1.708\n",
      "edgecount:  \t1.852\n",
      "globaleffic:  \t1.732\n"
     ]
    }
   ],
   "source": [
    "print(\"Percent of MCA sims resulting in significant (p < 0.05) difference:\")\n",
    "for key in zscore_dict:\n",
    "    print(key, end=':  \\t')\n",
    "    tmp = np.reshape(np.stack(zscore_dict[key]), (-1))\n",
    "    perc_sig = np.sum((np.abs(tmp) > z_crit).astype(int))/len(tmp)*100\n",
    "    print(\"%02.3f\" % perc_sig)"
   ]
  },
  {
   "cell_type": "markdown",
   "metadata": {},
   "source": [
    "### Multivariate"
   ]
  },
  {
   "cell_type": "code",
   "execution_count": 8,
   "metadata": {},
   "outputs": [
    {
     "name": "stderr",
     "output_type": "stream",
     "text": [
      "/Users/greg/code/env/stability/lib/python3.7/site-packages/ipykernel_launcher.py:8: PerformanceWarning: indexing past lexsort depth may impact performance.\n",
      "  \n"
     ]
    }
   ],
   "source": [
    "ids = uniq_ids\n",
    "ksscore_dict = {}\n",
    "ksp_dict = {}\n",
    "for multistat in multi_stats:\n",
    "    ksstat = []\n",
    "    ksp = []\n",
    "    for idd in ids:\n",
    "        tdat = df.loc[idd][multistat].values\n",
    "        tmp_ks = []\n",
    "        tmp_p = []\n",
    "        for i, j in itertools.combinations(range(len(tdat)), 2):\n",
    "            tmp = ks_2samp(tdat[i], tdat[j])\n",
    "            tmp_ks += [tmp[0]]\n",
    "            tmp_p += [tmp[1]]\n",
    "\n",
    "        ksstat += [np.mean(tmp_ks)]\n",
    "        ksp += [np.mean(tmp_p)]\n",
    "    ksscore_dict[multistat] = ksstat\n",
    "    ksp_dict[multistat] = ksp"
   ]
  },
  {
   "cell_type": "code",
   "execution_count": 10,
   "metadata": {},
   "outputs": [
    {
     "name": "stdout",
     "output_type": "stream",
     "text": [
      "Percent of MCA sims resulting in significant (p < 0.05) difference:\n",
      "degree:  \t0.000\n",
      "weight:  \t0.000\n",
      "ccoeff:  \t0.000\n",
      "betweenness:  \t0.000\n",
      "plength:  \t0.000\n"
     ]
    }
   ],
   "source": [
    "print(\"Percent of MCA sims resulting in significant (p < 0.05) difference:\")\n",
    "for key in ksp_dict:\n",
    "    print(key, end=':  \\t')\n",
    "    tmp = np.reshape(np.stack(ksp_dict[key]), (-1))\n",
    "    perc_sig = np.sum((np.abs(tmp) < 0.05).astype(int))/len(tmp)*100\n",
    "    print(\"%02.3f\" % perc_sig)"
   ]
  },
  {
   "cell_type": "code",
   "execution_count": null,
   "metadata": {},
   "outputs": [],
   "source": []
  }
 ],
 "metadata": {
  "kernelspec": {
   "display_name": "Python 3.7.3 64-bit ('stability': virtualenv)",
   "language": "python",
   "name": "python37364bitstabilityvirtualenv84ac84352db94279bfc9e852927393a9"
  },
  "language_info": {
   "codemirror_mode": {
    "name": "ipython",
    "version": 3
   },
   "file_extension": ".py",
   "mimetype": "text/x-python",
   "name": "python",
   "nbconvert_exporter": "python",
   "pygments_lexer": "ipython3",
   "version": "3.7.3"
  }
 },
 "nbformat": 4,
 "nbformat_minor": 4
}
